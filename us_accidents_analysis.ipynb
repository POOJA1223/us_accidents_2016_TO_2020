{
  "cells": [
    {
      "cell_type": "markdown",
      "metadata": {
        "id": "view-in-github",
        "colab_type": "text"
      },
      "source": [
        "<a href=\"https://colab.research.google.com/github/POOJA1223/us_accidents_2016_TO_2020/blob/main/us_accidents_analysis.ipynb\" target=\"_parent\"><img src=\"https://colab.research.google.com/assets/colab-badge.svg\" alt=\"Open In Colab\"/></a>"
      ]
    },
    {
      "cell_type": "code",
      "execution_count": null,
      "metadata": {
        "id": "TKpIWgrCL1iJ"
      },
      "outputs": [],
      "source": [
        "# Jovian Commit Essentials\n",
        "# Please retain and execute this cell without modifying the contents for `jovian.commit` to work\n",
        "!pip install jovian --upgrade -q\n",
        "import jovian\n",
        "jovian.set_project('us-accidents-analysis')\n",
        "jovian.set_colab_id('1ZPPLLzL_Fkml2US4FcyK3lNxzqNXUlx9')"
      ]
    },
    {
      "cell_type": "markdown",
      "metadata": {
        "id": "E4LKAvrNW1Tf"
      },
      "source": [
        "# US Accidents exploratory Data Analysis\n",
        "\n",
        "\n",
        "TODO - talk about EDA\n",
        "\n",
        "TODO - talk about the dataset (source,what it contains,how it will be useful)\n",
        "     \n",
        "     . Kaggle\n",
        "     . information about accidents \n",
        "     . can use useful to prevent accidents\n",
        "     . mention that this does bot contain  data about New Yorkciti\n",
        "\n",
        "\n",
        "\n",
        "\n",
        "\n",
        "Use the \"Run\" button to execute the code."
      ]
    },
    {
      "cell_type": "code",
      "execution_count": null,
      "metadata": {
        "id": "0e1PDL4iW1Tg"
      },
      "outputs": [],
      "source": [
        "pip install opendatasets --upgrade --quiet\n"
      ]
    },
    {
      "cell_type": "markdown",
      "metadata": {
        "id": "y65mLpYflvUf"
      },
      "source": [
        "## Download the Data"
      ]
    },
    {
      "cell_type": "code",
      "execution_count": null,
      "metadata": {
        "colab": {
          "base_uri": "https://localhost:8080/"
        },
        "id": "e0TvwU7nW1Tg",
        "outputId": "fd5ca1e4-b5ff-497c-a0d3-2b398d638bcd"
      },
      "outputs": [
        {
          "name": "stdout",
          "output_type": "stream",
          "text": [
            "Please provide your Kaggle credentials to download this dataset. Learn more: http://bit.ly/kaggle-creds\n",
            "Your Kaggle username: pooja7721\n",
            "Your Kaggle Key: ··········\n",
            "Downloading us-accidents-from-2016-to-2020.zip to ./us-accidents-from-2016-to-2020\n"
          ]
        },
        {
          "name": "stderr",
          "output_type": "stream",
          "text": [
            "100%|██████████| 233M/233M [00:02<00:00, 103MB/s]\n"
          ]
        },
        {
          "name": "stdout",
          "output_type": "stream",
          "text": [
            "\n"
          ]
        }
      ],
      "source": [
        "import opendatasets as od\n",
        "\n",
        "download_url = 'https://www.kaggle.com/datasets/girishwaran/us-accidents-from-2016-to-2020'\n",
        "\n",
        "od.download(download_url)\n",
        "\n"
      ]
    },
    {
      "cell_type": "code",
      "execution_count": null,
      "metadata": {
        "id": "5_F9q67Zl-rM"
      },
      "outputs": [],
      "source": [
        "data_filename = './us-accidents-from-2016-to-2020/US_Accidents_June20.csv'"
      ]
    },
    {
      "cell_type": "markdown",
      "metadata": {
        "id": "w1z_z3_anmvP"
      },
      "source": [
        "## Data Preparation and Cleaning\n",
        "\n",
        "\n",
        "1. Load the file using Pandas\n",
        "\n",
        "2. Look at some information about the data & the columns\n",
        "\n",
        "3. Fix any missing or incorrect values\n",
        "\n",
        "\n",
        "\n"
      ]
    },
    {
      "cell_type": "code",
      "execution_count": null,
      "metadata": {
        "id": "I2x0cBdenyaN"
      },
      "outputs": [],
      "source": [
        "import pandas as pd"
      ]
    },
    {
      "cell_type": "code",
      "execution_count": null,
      "metadata": {
        "id": "0rKZc3j0nyW3"
      },
      "outputs": [],
      "source": [
        "df = pd.read_csv(data_filename)"
      ]
    },
    {
      "cell_type": "code",
      "execution_count": null,
      "metadata": {
        "colab": {
          "base_uri": "https://localhost:8080/",
          "height": 1442
        },
        "id": "W0JJ7GBpnyVR",
        "outputId": "0e007b39-97e6-45c4-97d7-57c2e224c3c1"
      },
      "outputs": [
        {
          "data": {
            "text/html": [
              "\n",
              "  <div id=\"df-01cb53b7-f7b9-4b54-9265-c72a82b8146f\">\n",
              "    <div class=\"colab-df-container\">\n",
              "      <div>\n",
              "<style scoped>\n",
              "    .dataframe tbody tr th:only-of-type {\n",
              "        vertical-align: middle;\n",
              "    }\n",
              "\n",
              "    .dataframe tbody tr th {\n",
              "        vertical-align: top;\n",
              "    }\n",
              "\n",
              "    .dataframe thead th {\n",
              "        text-align: right;\n",
              "    }\n",
              "</style>\n",
              "<table border=\"1\" class=\"dataframe\">\n",
              "  <thead>\n",
              "    <tr style=\"text-align: right;\">\n",
              "      <th></th>\n",
              "      <th>ID</th>\n",
              "      <th>Source</th>\n",
              "      <th>TMC</th>\n",
              "      <th>Severity</th>\n",
              "      <th>Start_Time</th>\n",
              "      <th>End_Time</th>\n",
              "      <th>Start_Lat</th>\n",
              "      <th>Start_Lng</th>\n",
              "      <th>End_Lat</th>\n",
              "      <th>End_Lng</th>\n",
              "      <th>...</th>\n",
              "      <th>Roundabout</th>\n",
              "      <th>Station</th>\n",
              "      <th>Stop</th>\n",
              "      <th>Traffic_Calming</th>\n",
              "      <th>Traffic_Signal</th>\n",
              "      <th>Turning_Loop</th>\n",
              "      <th>Sunrise_Sunset</th>\n",
              "      <th>Civil_Twilight</th>\n",
              "      <th>Nautical_Twilight</th>\n",
              "      <th>Astronomical_Twilight</th>\n",
              "    </tr>\n",
              "  </thead>\n",
              "  <tbody>\n",
              "    <tr>\n",
              "      <th>0</th>\n",
              "      <td>A-1</td>\n",
              "      <td>MapQuest</td>\n",
              "      <td>201.0</td>\n",
              "      <td>3</td>\n",
              "      <td>2016-02-08 05:46:00</td>\n",
              "      <td>2016-02-08 11:00:00</td>\n",
              "      <td>39.865147</td>\n",
              "      <td>-84.058723</td>\n",
              "      <td>NaN</td>\n",
              "      <td>NaN</td>\n",
              "      <td>...</td>\n",
              "      <td>False</td>\n",
              "      <td>False</td>\n",
              "      <td>False</td>\n",
              "      <td>False</td>\n",
              "      <td>False</td>\n",
              "      <td>False</td>\n",
              "      <td>Night</td>\n",
              "      <td>Night</td>\n",
              "      <td>Night</td>\n",
              "      <td>Night</td>\n",
              "    </tr>\n",
              "    <tr>\n",
              "      <th>1</th>\n",
              "      <td>A-2</td>\n",
              "      <td>MapQuest</td>\n",
              "      <td>201.0</td>\n",
              "      <td>2</td>\n",
              "      <td>2016-02-08 06:07:59</td>\n",
              "      <td>2016-02-08 06:37:59</td>\n",
              "      <td>39.928059</td>\n",
              "      <td>-82.831184</td>\n",
              "      <td>NaN</td>\n",
              "      <td>NaN</td>\n",
              "      <td>...</td>\n",
              "      <td>False</td>\n",
              "      <td>False</td>\n",
              "      <td>False</td>\n",
              "      <td>False</td>\n",
              "      <td>False</td>\n",
              "      <td>False</td>\n",
              "      <td>Night</td>\n",
              "      <td>Night</td>\n",
              "      <td>Night</td>\n",
              "      <td>Day</td>\n",
              "    </tr>\n",
              "    <tr>\n",
              "      <th>2</th>\n",
              "      <td>A-3</td>\n",
              "      <td>MapQuest</td>\n",
              "      <td>201.0</td>\n",
              "      <td>2</td>\n",
              "      <td>2016-02-08 06:49:27</td>\n",
              "      <td>2016-02-08 07:19:27</td>\n",
              "      <td>39.063148</td>\n",
              "      <td>-84.032608</td>\n",
              "      <td>NaN</td>\n",
              "      <td>NaN</td>\n",
              "      <td>...</td>\n",
              "      <td>False</td>\n",
              "      <td>False</td>\n",
              "      <td>False</td>\n",
              "      <td>False</td>\n",
              "      <td>True</td>\n",
              "      <td>False</td>\n",
              "      <td>Night</td>\n",
              "      <td>Night</td>\n",
              "      <td>Day</td>\n",
              "      <td>Day</td>\n",
              "    </tr>\n",
              "    <tr>\n",
              "      <th>3</th>\n",
              "      <td>A-4</td>\n",
              "      <td>MapQuest</td>\n",
              "      <td>201.0</td>\n",
              "      <td>3</td>\n",
              "      <td>2016-02-08 07:23:34</td>\n",
              "      <td>2016-02-08 07:53:34</td>\n",
              "      <td>39.747753</td>\n",
              "      <td>-84.205582</td>\n",
              "      <td>NaN</td>\n",
              "      <td>NaN</td>\n",
              "      <td>...</td>\n",
              "      <td>False</td>\n",
              "      <td>False</td>\n",
              "      <td>False</td>\n",
              "      <td>False</td>\n",
              "      <td>False</td>\n",
              "      <td>False</td>\n",
              "      <td>Night</td>\n",
              "      <td>Day</td>\n",
              "      <td>Day</td>\n",
              "      <td>Day</td>\n",
              "    </tr>\n",
              "    <tr>\n",
              "      <th>4</th>\n",
              "      <td>A-5</td>\n",
              "      <td>MapQuest</td>\n",
              "      <td>201.0</td>\n",
              "      <td>2</td>\n",
              "      <td>2016-02-08 07:39:07</td>\n",
              "      <td>2016-02-08 08:09:07</td>\n",
              "      <td>39.627781</td>\n",
              "      <td>-84.188354</td>\n",
              "      <td>NaN</td>\n",
              "      <td>NaN</td>\n",
              "      <td>...</td>\n",
              "      <td>False</td>\n",
              "      <td>False</td>\n",
              "      <td>False</td>\n",
              "      <td>False</td>\n",
              "      <td>True</td>\n",
              "      <td>False</td>\n",
              "      <td>Day</td>\n",
              "      <td>Day</td>\n",
              "      <td>Day</td>\n",
              "      <td>Day</td>\n",
              "    </tr>\n",
              "    <tr>\n",
              "      <th>...</th>\n",
              "      <td>...</td>\n",
              "      <td>...</td>\n",
              "      <td>...</td>\n",
              "      <td>...</td>\n",
              "      <td>...</td>\n",
              "      <td>...</td>\n",
              "      <td>...</td>\n",
              "      <td>...</td>\n",
              "      <td>...</td>\n",
              "      <td>...</td>\n",
              "      <td>...</td>\n",
              "      <td>...</td>\n",
              "      <td>...</td>\n",
              "      <td>...</td>\n",
              "      <td>...</td>\n",
              "      <td>...</td>\n",
              "      <td>...</td>\n",
              "      <td>...</td>\n",
              "      <td>...</td>\n",
              "      <td>...</td>\n",
              "      <td>...</td>\n",
              "    </tr>\n",
              "    <tr>\n",
              "      <th>3513612</th>\n",
              "      <td>A-3513776</td>\n",
              "      <td>Bing</td>\n",
              "      <td>NaN</td>\n",
              "      <td>2</td>\n",
              "      <td>2019-08-23 18:03:25</td>\n",
              "      <td>2019-08-23 18:32:01</td>\n",
              "      <td>34.002480</td>\n",
              "      <td>-117.379360</td>\n",
              "      <td>33.99888</td>\n",
              "      <td>-117.37094</td>\n",
              "      <td>...</td>\n",
              "      <td>False</td>\n",
              "      <td>False</td>\n",
              "      <td>False</td>\n",
              "      <td>False</td>\n",
              "      <td>False</td>\n",
              "      <td>False</td>\n",
              "      <td>Day</td>\n",
              "      <td>Day</td>\n",
              "      <td>Day</td>\n",
              "      <td>Day</td>\n",
              "    </tr>\n",
              "    <tr>\n",
              "      <th>3513613</th>\n",
              "      <td>A-3513777</td>\n",
              "      <td>Bing</td>\n",
              "      <td>NaN</td>\n",
              "      <td>2</td>\n",
              "      <td>2019-08-23 19:11:30</td>\n",
              "      <td>2019-08-23 19:38:23</td>\n",
              "      <td>32.766960</td>\n",
              "      <td>-117.148060</td>\n",
              "      <td>32.76555</td>\n",
              "      <td>-117.15363</td>\n",
              "      <td>...</td>\n",
              "      <td>False</td>\n",
              "      <td>False</td>\n",
              "      <td>False</td>\n",
              "      <td>False</td>\n",
              "      <td>False</td>\n",
              "      <td>False</td>\n",
              "      <td>Day</td>\n",
              "      <td>Day</td>\n",
              "      <td>Day</td>\n",
              "      <td>Day</td>\n",
              "    </tr>\n",
              "    <tr>\n",
              "      <th>3513614</th>\n",
              "      <td>A-3513778</td>\n",
              "      <td>Bing</td>\n",
              "      <td>NaN</td>\n",
              "      <td>2</td>\n",
              "      <td>2019-08-23 19:00:21</td>\n",
              "      <td>2019-08-23 19:28:49</td>\n",
              "      <td>33.775450</td>\n",
              "      <td>-117.847790</td>\n",
              "      <td>33.77740</td>\n",
              "      <td>-117.85727</td>\n",
              "      <td>...</td>\n",
              "      <td>False</td>\n",
              "      <td>False</td>\n",
              "      <td>False</td>\n",
              "      <td>False</td>\n",
              "      <td>False</td>\n",
              "      <td>False</td>\n",
              "      <td>Day</td>\n",
              "      <td>Day</td>\n",
              "      <td>Day</td>\n",
              "      <td>Day</td>\n",
              "    </tr>\n",
              "    <tr>\n",
              "      <th>3513615</th>\n",
              "      <td>A-3513779</td>\n",
              "      <td>Bing</td>\n",
              "      <td>NaN</td>\n",
              "      <td>2</td>\n",
              "      <td>2019-08-23 19:00:21</td>\n",
              "      <td>2019-08-23 19:29:42</td>\n",
              "      <td>33.992460</td>\n",
              "      <td>-118.403020</td>\n",
              "      <td>33.98311</td>\n",
              "      <td>-118.39565</td>\n",
              "      <td>...</td>\n",
              "      <td>False</td>\n",
              "      <td>False</td>\n",
              "      <td>False</td>\n",
              "      <td>False</td>\n",
              "      <td>False</td>\n",
              "      <td>False</td>\n",
              "      <td>Day</td>\n",
              "      <td>Day</td>\n",
              "      <td>Day</td>\n",
              "      <td>Day</td>\n",
              "    </tr>\n",
              "    <tr>\n",
              "      <th>3513616</th>\n",
              "      <td>A-3513780</td>\n",
              "      <td>Bing</td>\n",
              "      <td>NaN</td>\n",
              "      <td>2</td>\n",
              "      <td>2019-08-23 18:52:06</td>\n",
              "      <td>2019-08-23 19:21:31</td>\n",
              "      <td>34.133930</td>\n",
              "      <td>-117.230920</td>\n",
              "      <td>34.13736</td>\n",
              "      <td>-117.23934</td>\n",
              "      <td>...</td>\n",
              "      <td>False</td>\n",
              "      <td>False</td>\n",
              "      <td>False</td>\n",
              "      <td>False</td>\n",
              "      <td>False</td>\n",
              "      <td>False</td>\n",
              "      <td>Day</td>\n",
              "      <td>Day</td>\n",
              "      <td>Day</td>\n",
              "      <td>Day</td>\n",
              "    </tr>\n",
              "  </tbody>\n",
              "</table>\n",
              "<p>3513617 rows × 49 columns</p>\n",
              "</div>\n",
              "      <button class=\"colab-df-convert\" onclick=\"convertToInteractive('df-01cb53b7-f7b9-4b54-9265-c72a82b8146f')\"\n",
              "              title=\"Convert this dataframe to an interactive table.\"\n",
              "              style=\"display:none;\">\n",
              "        \n",
              "  <svg xmlns=\"http://www.w3.org/2000/svg\" height=\"24px\"viewBox=\"0 0 24 24\"\n",
              "       width=\"24px\">\n",
              "    <path d=\"M0 0h24v24H0V0z\" fill=\"none\"/>\n",
              "    <path d=\"M18.56 5.44l.94 2.06.94-2.06 2.06-.94-2.06-.94-.94-2.06-.94 2.06-2.06.94zm-11 1L8.5 8.5l.94-2.06 2.06-.94-2.06-.94L8.5 2.5l-.94 2.06-2.06.94zm10 10l.94 2.06.94-2.06 2.06-.94-2.06-.94-.94-2.06-.94 2.06-2.06.94z\"/><path d=\"M17.41 7.96l-1.37-1.37c-.4-.4-.92-.59-1.43-.59-.52 0-1.04.2-1.43.59L10.3 9.45l-7.72 7.72c-.78.78-.78 2.05 0 2.83L4 21.41c.39.39.9.59 1.41.59.51 0 1.02-.2 1.41-.59l7.78-7.78 2.81-2.81c.8-.78.8-2.07 0-2.86zM5.41 20L4 18.59l7.72-7.72 1.47 1.35L5.41 20z\"/>\n",
              "  </svg>\n",
              "      </button>\n",
              "      \n",
              "  <style>\n",
              "    .colab-df-container {\n",
              "      display:flex;\n",
              "      flex-wrap:wrap;\n",
              "      gap: 12px;\n",
              "    }\n",
              "\n",
              "    .colab-df-convert {\n",
              "      background-color: #E8F0FE;\n",
              "      border: none;\n",
              "      border-radius: 50%;\n",
              "      cursor: pointer;\n",
              "      display: none;\n",
              "      fill: #1967D2;\n",
              "      height: 32px;\n",
              "      padding: 0 0 0 0;\n",
              "      width: 32px;\n",
              "    }\n",
              "\n",
              "    .colab-df-convert:hover {\n",
              "      background-color: #E2EBFA;\n",
              "      box-shadow: 0px 1px 2px rgba(60, 64, 67, 0.3), 0px 1px 3px 1px rgba(60, 64, 67, 0.15);\n",
              "      fill: #174EA6;\n",
              "    }\n",
              "\n",
              "    [theme=dark] .colab-df-convert {\n",
              "      background-color: #3B4455;\n",
              "      fill: #D2E3FC;\n",
              "    }\n",
              "\n",
              "    [theme=dark] .colab-df-convert:hover {\n",
              "      background-color: #434B5C;\n",
              "      box-shadow: 0px 1px 3px 1px rgba(0, 0, 0, 0.15);\n",
              "      filter: drop-shadow(0px 1px 2px rgba(0, 0, 0, 0.3));\n",
              "      fill: #FFFFFF;\n",
              "    }\n",
              "  </style>\n",
              "\n",
              "      <script>\n",
              "        const buttonEl =\n",
              "          document.querySelector('#df-01cb53b7-f7b9-4b54-9265-c72a82b8146f button.colab-df-convert');\n",
              "        buttonEl.style.display =\n",
              "          google.colab.kernel.accessAllowed ? 'block' : 'none';\n",
              "\n",
              "        async function convertToInteractive(key) {\n",
              "          const element = document.querySelector('#df-01cb53b7-f7b9-4b54-9265-c72a82b8146f');\n",
              "          const dataTable =\n",
              "            await google.colab.kernel.invokeFunction('convertToInteractive',\n",
              "                                                     [key], {});\n",
              "          if (!dataTable) return;\n",
              "\n",
              "          const docLinkHtml = 'Like what you see? Visit the ' +\n",
              "            '<a target=\"_blank\" href=https://colab.research.google.com/notebooks/data_table.ipynb>data table notebook</a>'\n",
              "            + ' to learn more about interactive tables.';\n",
              "          element.innerHTML = '';\n",
              "          dataTable['output_type'] = 'display_data';\n",
              "          await google.colab.output.renderOutput(dataTable, element);\n",
              "          const docLink = document.createElement('div');\n",
              "          docLink.innerHTML = docLinkHtml;\n",
              "          element.appendChild(docLink);\n",
              "        }\n",
              "      </script>\n",
              "    </div>\n",
              "  </div>\n",
              "  "
            ],
            "text/plain": [
              "                ID    Source    TMC  Severity           Start_Time  \\\n",
              "0              A-1  MapQuest  201.0         3  2016-02-08 05:46:00   \n",
              "1              A-2  MapQuest  201.0         2  2016-02-08 06:07:59   \n",
              "2              A-3  MapQuest  201.0         2  2016-02-08 06:49:27   \n",
              "3              A-4  MapQuest  201.0         3  2016-02-08 07:23:34   \n",
              "4              A-5  MapQuest  201.0         2  2016-02-08 07:39:07   \n",
              "...            ...       ...    ...       ...                  ...   \n",
              "3513612  A-3513776      Bing    NaN         2  2019-08-23 18:03:25   \n",
              "3513613  A-3513777      Bing    NaN         2  2019-08-23 19:11:30   \n",
              "3513614  A-3513778      Bing    NaN         2  2019-08-23 19:00:21   \n",
              "3513615  A-3513779      Bing    NaN         2  2019-08-23 19:00:21   \n",
              "3513616  A-3513780      Bing    NaN         2  2019-08-23 18:52:06   \n",
              "\n",
              "                    End_Time  Start_Lat   Start_Lng   End_Lat    End_Lng  ...  \\\n",
              "0        2016-02-08 11:00:00  39.865147  -84.058723       NaN        NaN  ...   \n",
              "1        2016-02-08 06:37:59  39.928059  -82.831184       NaN        NaN  ...   \n",
              "2        2016-02-08 07:19:27  39.063148  -84.032608       NaN        NaN  ...   \n",
              "3        2016-02-08 07:53:34  39.747753  -84.205582       NaN        NaN  ...   \n",
              "4        2016-02-08 08:09:07  39.627781  -84.188354       NaN        NaN  ...   \n",
              "...                      ...        ...         ...       ...        ...  ...   \n",
              "3513612  2019-08-23 18:32:01  34.002480 -117.379360  33.99888 -117.37094  ...   \n",
              "3513613  2019-08-23 19:38:23  32.766960 -117.148060  32.76555 -117.15363  ...   \n",
              "3513614  2019-08-23 19:28:49  33.775450 -117.847790  33.77740 -117.85727  ...   \n",
              "3513615  2019-08-23 19:29:42  33.992460 -118.403020  33.98311 -118.39565  ...   \n",
              "3513616  2019-08-23 19:21:31  34.133930 -117.230920  34.13736 -117.23934  ...   \n",
              "\n",
              "         Roundabout Station   Stop Traffic_Calming Traffic_Signal  \\\n",
              "0             False   False  False           False          False   \n",
              "1             False   False  False           False          False   \n",
              "2             False   False  False           False           True   \n",
              "3             False   False  False           False          False   \n",
              "4             False   False  False           False           True   \n",
              "...             ...     ...    ...             ...            ...   \n",
              "3513612       False   False  False           False          False   \n",
              "3513613       False   False  False           False          False   \n",
              "3513614       False   False  False           False          False   \n",
              "3513615       False   False  False           False          False   \n",
              "3513616       False   False  False           False          False   \n",
              "\n",
              "        Turning_Loop Sunrise_Sunset Civil_Twilight Nautical_Twilight  \\\n",
              "0              False          Night          Night             Night   \n",
              "1              False          Night          Night             Night   \n",
              "2              False          Night          Night               Day   \n",
              "3              False          Night            Day               Day   \n",
              "4              False            Day            Day               Day   \n",
              "...              ...            ...            ...               ...   \n",
              "3513612        False            Day            Day               Day   \n",
              "3513613        False            Day            Day               Day   \n",
              "3513614        False            Day            Day               Day   \n",
              "3513615        False            Day            Day               Day   \n",
              "3513616        False            Day            Day               Day   \n",
              "\n",
              "        Astronomical_Twilight  \n",
              "0                       Night  \n",
              "1                         Day  \n",
              "2                         Day  \n",
              "3                         Day  \n",
              "4                         Day  \n",
              "...                       ...  \n",
              "3513612                   Day  \n",
              "3513613                   Day  \n",
              "3513614                   Day  \n",
              "3513615                   Day  \n",
              "3513616                   Day  \n",
              "\n",
              "[3513617 rows x 49 columns]"
            ]
          },
          "execution_count": 19,
          "metadata": {},
          "output_type": "execute_result"
        },
        {
          "name": "stdout",
          "output_type": "stream",
          "text": [
            "Warning: Total number of columns (49) exceeds max_columns (20) limiting to first (20) columns.\n",
            "Warning: total number of rows (3513617) exceeds max_rows (20000). Limiting to first (20000) rows.\n"
          ]
        }
      ],
      "source": [
        "df"
      ]
    },
    {
      "cell_type": "code",
      "execution_count": null,
      "metadata": {
        "colab": {
          "base_uri": "https://localhost:8080/"
        },
        "id": "iUdpztQjnyPU",
        "outputId": "bcad94fe-9d3f-486c-ab58-58b3b22c8b1b"
      },
      "outputs": [
        {
          "name": "stdout",
          "output_type": "stream",
          "text": [
            "<class 'pandas.core.frame.DataFrame'>\n",
            "RangeIndex: 3513617 entries, 0 to 3513616\n",
            "Data columns (total 49 columns):\n",
            " #   Column                 Dtype  \n",
            "---  ------                 -----  \n",
            " 0   ID                     object \n",
            " 1   Source                 object \n",
            " 2   TMC                    float64\n",
            " 3   Severity               int64  \n",
            " 4   Start_Time             object \n",
            " 5   End_Time               object \n",
            " 6   Start_Lat              float64\n",
            " 7   Start_Lng              float64\n",
            " 8   End_Lat                float64\n",
            " 9   End_Lng                float64\n",
            " 10  Distance(mi)           float64\n",
            " 11  Description            object \n",
            " 12  Number                 float64\n",
            " 13  Street                 object \n",
            " 14  Side                   object \n",
            " 15  City                   object \n",
            " 16  County                 object \n",
            " 17  State                  object \n",
            " 18  Zipcode                object \n",
            " 19  Country                object \n",
            " 20  Timezone               object \n",
            " 21  Airport_Code           object \n",
            " 22  Weather_Timestamp      object \n",
            " 23  Temperature(F)         float64\n",
            " 24  Wind_Chill(F)          float64\n",
            " 25  Humidity(%)            float64\n",
            " 26  Pressure(in)           float64\n",
            " 27  Visibility(mi)         float64\n",
            " 28  Wind_Direction         object \n",
            " 29  Wind_Speed(mph)        float64\n",
            " 30  Precipitation(in)      float64\n",
            " 31  Weather_Condition      object \n",
            " 32  Amenity                bool   \n",
            " 33  Bump                   bool   \n",
            " 34  Crossing               bool   \n",
            " 35  Give_Way               bool   \n",
            " 36  Junction               bool   \n",
            " 37  No_Exit                bool   \n",
            " 38  Railway                bool   \n",
            " 39  Roundabout             bool   \n",
            " 40  Station                bool   \n",
            " 41  Stop                   bool   \n",
            " 42  Traffic_Calming        bool   \n",
            " 43  Traffic_Signal         bool   \n",
            " 44  Turning_Loop           bool   \n",
            " 45  Sunrise_Sunset         object \n",
            " 46  Civil_Twilight         object \n",
            " 47  Nautical_Twilight      object \n",
            " 48  Astronomical_Twilight  object \n",
            "dtypes: bool(13), float64(14), int64(1), object(21)\n",
            "memory usage: 1008.6+ MB\n"
          ]
        }
      ],
      "source": [
        "df.info()"
      ]
    },
    {
      "cell_type": "code",
      "execution_count": null,
      "metadata": {
        "colab": {
          "base_uri": "https://localhost:8080/",
          "height": 488
        },
        "id": "dbGB8ijknyH2",
        "outputId": "1cd88fb8-7c31-4d5c-fda4-66f164b8138b"
      },
      "outputs": [
        {
          "data": {
            "text/html": [
              "\n",
              "  <div id=\"df-fd2d114d-33d4-42a8-a22a-754c2bde9d51\">\n",
              "    <div class=\"colab-df-container\">\n",
              "      <div>\n",
              "<style scoped>\n",
              "    .dataframe tbody tr th:only-of-type {\n",
              "        vertical-align: middle;\n",
              "    }\n",
              "\n",
              "    .dataframe tbody tr th {\n",
              "        vertical-align: top;\n",
              "    }\n",
              "\n",
              "    .dataframe thead th {\n",
              "        text-align: right;\n",
              "    }\n",
              "</style>\n",
              "<table border=\"1\" class=\"dataframe\">\n",
              "  <thead>\n",
              "    <tr style=\"text-align: right;\">\n",
              "      <th></th>\n",
              "      <th>ID</th>\n",
              "      <th>Source</th>\n",
              "      <th>TMC</th>\n",
              "      <th>Severity</th>\n",
              "      <th>Start_Time</th>\n",
              "      <th>End_Time</th>\n",
              "      <th>Start_Lat</th>\n",
              "      <th>Start_Lng</th>\n",
              "      <th>End_Lat</th>\n",
              "      <th>End_Lng</th>\n",
              "      <th>...</th>\n",
              "      <th>Roundabout</th>\n",
              "      <th>Station</th>\n",
              "      <th>Stop</th>\n",
              "      <th>Traffic_Calming</th>\n",
              "      <th>Traffic_Signal</th>\n",
              "      <th>Turning_Loop</th>\n",
              "      <th>Sunrise_Sunset</th>\n",
              "      <th>Civil_Twilight</th>\n",
              "      <th>Nautical_Twilight</th>\n",
              "      <th>Astronomical_Twilight</th>\n",
              "    </tr>\n",
              "  </thead>\n",
              "  <tbody>\n",
              "    <tr>\n",
              "      <th>0</th>\n",
              "      <td>False</td>\n",
              "      <td>False</td>\n",
              "      <td>False</td>\n",
              "      <td>False</td>\n",
              "      <td>False</td>\n",
              "      <td>False</td>\n",
              "      <td>False</td>\n",
              "      <td>False</td>\n",
              "      <td>True</td>\n",
              "      <td>True</td>\n",
              "      <td>...</td>\n",
              "      <td>False</td>\n",
              "      <td>False</td>\n",
              "      <td>False</td>\n",
              "      <td>False</td>\n",
              "      <td>False</td>\n",
              "      <td>False</td>\n",
              "      <td>False</td>\n",
              "      <td>False</td>\n",
              "      <td>False</td>\n",
              "      <td>False</td>\n",
              "    </tr>\n",
              "    <tr>\n",
              "      <th>1</th>\n",
              "      <td>False</td>\n",
              "      <td>False</td>\n",
              "      <td>False</td>\n",
              "      <td>False</td>\n",
              "      <td>False</td>\n",
              "      <td>False</td>\n",
              "      <td>False</td>\n",
              "      <td>False</td>\n",
              "      <td>True</td>\n",
              "      <td>True</td>\n",
              "      <td>...</td>\n",
              "      <td>False</td>\n",
              "      <td>False</td>\n",
              "      <td>False</td>\n",
              "      <td>False</td>\n",
              "      <td>False</td>\n",
              "      <td>False</td>\n",
              "      <td>False</td>\n",
              "      <td>False</td>\n",
              "      <td>False</td>\n",
              "      <td>False</td>\n",
              "    </tr>\n",
              "    <tr>\n",
              "      <th>2</th>\n",
              "      <td>False</td>\n",
              "      <td>False</td>\n",
              "      <td>False</td>\n",
              "      <td>False</td>\n",
              "      <td>False</td>\n",
              "      <td>False</td>\n",
              "      <td>False</td>\n",
              "      <td>False</td>\n",
              "      <td>True</td>\n",
              "      <td>True</td>\n",
              "      <td>...</td>\n",
              "      <td>False</td>\n",
              "      <td>False</td>\n",
              "      <td>False</td>\n",
              "      <td>False</td>\n",
              "      <td>False</td>\n",
              "      <td>False</td>\n",
              "      <td>False</td>\n",
              "      <td>False</td>\n",
              "      <td>False</td>\n",
              "      <td>False</td>\n",
              "    </tr>\n",
              "    <tr>\n",
              "      <th>3</th>\n",
              "      <td>False</td>\n",
              "      <td>False</td>\n",
              "      <td>False</td>\n",
              "      <td>False</td>\n",
              "      <td>False</td>\n",
              "      <td>False</td>\n",
              "      <td>False</td>\n",
              "      <td>False</td>\n",
              "      <td>True</td>\n",
              "      <td>True</td>\n",
              "      <td>...</td>\n",
              "      <td>False</td>\n",
              "      <td>False</td>\n",
              "      <td>False</td>\n",
              "      <td>False</td>\n",
              "      <td>False</td>\n",
              "      <td>False</td>\n",
              "      <td>False</td>\n",
              "      <td>False</td>\n",
              "      <td>False</td>\n",
              "      <td>False</td>\n",
              "    </tr>\n",
              "    <tr>\n",
              "      <th>4</th>\n",
              "      <td>False</td>\n",
              "      <td>False</td>\n",
              "      <td>False</td>\n",
              "      <td>False</td>\n",
              "      <td>False</td>\n",
              "      <td>False</td>\n",
              "      <td>False</td>\n",
              "      <td>False</td>\n",
              "      <td>True</td>\n",
              "      <td>True</td>\n",
              "      <td>...</td>\n",
              "      <td>False</td>\n",
              "      <td>False</td>\n",
              "      <td>False</td>\n",
              "      <td>False</td>\n",
              "      <td>False</td>\n",
              "      <td>False</td>\n",
              "      <td>False</td>\n",
              "      <td>False</td>\n",
              "      <td>False</td>\n",
              "      <td>False</td>\n",
              "    </tr>\n",
              "    <tr>\n",
              "      <th>...</th>\n",
              "      <td>...</td>\n",
              "      <td>...</td>\n",
              "      <td>...</td>\n",
              "      <td>...</td>\n",
              "      <td>...</td>\n",
              "      <td>...</td>\n",
              "      <td>...</td>\n",
              "      <td>...</td>\n",
              "      <td>...</td>\n",
              "      <td>...</td>\n",
              "      <td>...</td>\n",
              "      <td>...</td>\n",
              "      <td>...</td>\n",
              "      <td>...</td>\n",
              "      <td>...</td>\n",
              "      <td>...</td>\n",
              "      <td>...</td>\n",
              "      <td>...</td>\n",
              "      <td>...</td>\n",
              "      <td>...</td>\n",
              "      <td>...</td>\n",
              "    </tr>\n",
              "    <tr>\n",
              "      <th>3513612</th>\n",
              "      <td>False</td>\n",
              "      <td>False</td>\n",
              "      <td>True</td>\n",
              "      <td>False</td>\n",
              "      <td>False</td>\n",
              "      <td>False</td>\n",
              "      <td>False</td>\n",
              "      <td>False</td>\n",
              "      <td>False</td>\n",
              "      <td>False</td>\n",
              "      <td>...</td>\n",
              "      <td>False</td>\n",
              "      <td>False</td>\n",
              "      <td>False</td>\n",
              "      <td>False</td>\n",
              "      <td>False</td>\n",
              "      <td>False</td>\n",
              "      <td>False</td>\n",
              "      <td>False</td>\n",
              "      <td>False</td>\n",
              "      <td>False</td>\n",
              "    </tr>\n",
              "    <tr>\n",
              "      <th>3513613</th>\n",
              "      <td>False</td>\n",
              "      <td>False</td>\n",
              "      <td>True</td>\n",
              "      <td>False</td>\n",
              "      <td>False</td>\n",
              "      <td>False</td>\n",
              "      <td>False</td>\n",
              "      <td>False</td>\n",
              "      <td>False</td>\n",
              "      <td>False</td>\n",
              "      <td>...</td>\n",
              "      <td>False</td>\n",
              "      <td>False</td>\n",
              "      <td>False</td>\n",
              "      <td>False</td>\n",
              "      <td>False</td>\n",
              "      <td>False</td>\n",
              "      <td>False</td>\n",
              "      <td>False</td>\n",
              "      <td>False</td>\n",
              "      <td>False</td>\n",
              "    </tr>\n",
              "    <tr>\n",
              "      <th>3513614</th>\n",
              "      <td>False</td>\n",
              "      <td>False</td>\n",
              "      <td>True</td>\n",
              "      <td>False</td>\n",
              "      <td>False</td>\n",
              "      <td>False</td>\n",
              "      <td>False</td>\n",
              "      <td>False</td>\n",
              "      <td>False</td>\n",
              "      <td>False</td>\n",
              "      <td>...</td>\n",
              "      <td>False</td>\n",
              "      <td>False</td>\n",
              "      <td>False</td>\n",
              "      <td>False</td>\n",
              "      <td>False</td>\n",
              "      <td>False</td>\n",
              "      <td>False</td>\n",
              "      <td>False</td>\n",
              "      <td>False</td>\n",
              "      <td>False</td>\n",
              "    </tr>\n",
              "    <tr>\n",
              "      <th>3513615</th>\n",
              "      <td>False</td>\n",
              "      <td>False</td>\n",
              "      <td>True</td>\n",
              "      <td>False</td>\n",
              "      <td>False</td>\n",
              "      <td>False</td>\n",
              "      <td>False</td>\n",
              "      <td>False</td>\n",
              "      <td>False</td>\n",
              "      <td>False</td>\n",
              "      <td>...</td>\n",
              "      <td>False</td>\n",
              "      <td>False</td>\n",
              "      <td>False</td>\n",
              "      <td>False</td>\n",
              "      <td>False</td>\n",
              "      <td>False</td>\n",
              "      <td>False</td>\n",
              "      <td>False</td>\n",
              "      <td>False</td>\n",
              "      <td>False</td>\n",
              "    </tr>\n",
              "    <tr>\n",
              "      <th>3513616</th>\n",
              "      <td>False</td>\n",
              "      <td>False</td>\n",
              "      <td>True</td>\n",
              "      <td>False</td>\n",
              "      <td>False</td>\n",
              "      <td>False</td>\n",
              "      <td>False</td>\n",
              "      <td>False</td>\n",
              "      <td>False</td>\n",
              "      <td>False</td>\n",
              "      <td>...</td>\n",
              "      <td>False</td>\n",
              "      <td>False</td>\n",
              "      <td>False</td>\n",
              "      <td>False</td>\n",
              "      <td>False</td>\n",
              "      <td>False</td>\n",
              "      <td>False</td>\n",
              "      <td>False</td>\n",
              "      <td>False</td>\n",
              "      <td>False</td>\n",
              "    </tr>\n",
              "  </tbody>\n",
              "</table>\n",
              "<p>3513617 rows × 49 columns</p>\n",
              "</div>\n",
              "      <button class=\"colab-df-convert\" onclick=\"convertToInteractive('df-fd2d114d-33d4-42a8-a22a-754c2bde9d51')\"\n",
              "              title=\"Convert this dataframe to an interactive table.\"\n",
              "              style=\"display:none;\">\n",
              "        \n",
              "  <svg xmlns=\"http://www.w3.org/2000/svg\" height=\"24px\"viewBox=\"0 0 24 24\"\n",
              "       width=\"24px\">\n",
              "    <path d=\"M0 0h24v24H0V0z\" fill=\"none\"/>\n",
              "    <path d=\"M18.56 5.44l.94 2.06.94-2.06 2.06-.94-2.06-.94-.94-2.06-.94 2.06-2.06.94zm-11 1L8.5 8.5l.94-2.06 2.06-.94-2.06-.94L8.5 2.5l-.94 2.06-2.06.94zm10 10l.94 2.06.94-2.06 2.06-.94-2.06-.94-.94-2.06-.94 2.06-2.06.94z\"/><path d=\"M17.41 7.96l-1.37-1.37c-.4-.4-.92-.59-1.43-.59-.52 0-1.04.2-1.43.59L10.3 9.45l-7.72 7.72c-.78.78-.78 2.05 0 2.83L4 21.41c.39.39.9.59 1.41.59.51 0 1.02-.2 1.41-.59l7.78-7.78 2.81-2.81c.8-.78.8-2.07 0-2.86zM5.41 20L4 18.59l7.72-7.72 1.47 1.35L5.41 20z\"/>\n",
              "  </svg>\n",
              "      </button>\n",
              "      \n",
              "  <style>\n",
              "    .colab-df-container {\n",
              "      display:flex;\n",
              "      flex-wrap:wrap;\n",
              "      gap: 12px;\n",
              "    }\n",
              "\n",
              "    .colab-df-convert {\n",
              "      background-color: #E8F0FE;\n",
              "      border: none;\n",
              "      border-radius: 50%;\n",
              "      cursor: pointer;\n",
              "      display: none;\n",
              "      fill: #1967D2;\n",
              "      height: 32px;\n",
              "      padding: 0 0 0 0;\n",
              "      width: 32px;\n",
              "    }\n",
              "\n",
              "    .colab-df-convert:hover {\n",
              "      background-color: #E2EBFA;\n",
              "      box-shadow: 0px 1px 2px rgba(60, 64, 67, 0.3), 0px 1px 3px 1px rgba(60, 64, 67, 0.15);\n",
              "      fill: #174EA6;\n",
              "    }\n",
              "\n",
              "    [theme=dark] .colab-df-convert {\n",
              "      background-color: #3B4455;\n",
              "      fill: #D2E3FC;\n",
              "    }\n",
              "\n",
              "    [theme=dark] .colab-df-convert:hover {\n",
              "      background-color: #434B5C;\n",
              "      box-shadow: 0px 1px 3px 1px rgba(0, 0, 0, 0.15);\n",
              "      filter: drop-shadow(0px 1px 2px rgba(0, 0, 0, 0.3));\n",
              "      fill: #FFFFFF;\n",
              "    }\n",
              "  </style>\n",
              "\n",
              "      <script>\n",
              "        const buttonEl =\n",
              "          document.querySelector('#df-fd2d114d-33d4-42a8-a22a-754c2bde9d51 button.colab-df-convert');\n",
              "        buttonEl.style.display =\n",
              "          google.colab.kernel.accessAllowed ? 'block' : 'none';\n",
              "\n",
              "        async function convertToInteractive(key) {\n",
              "          const element = document.querySelector('#df-fd2d114d-33d4-42a8-a22a-754c2bde9d51');\n",
              "          const dataTable =\n",
              "            await google.colab.kernel.invokeFunction('convertToInteractive',\n",
              "                                                     [key], {});\n",
              "          if (!dataTable) return;\n",
              "\n",
              "          const docLinkHtml = 'Like what you see? Visit the ' +\n",
              "            '<a target=\"_blank\" href=https://colab.research.google.com/notebooks/data_table.ipynb>data table notebook</a>'\n",
              "            + ' to learn more about interactive tables.';\n",
              "          element.innerHTML = '';\n",
              "          dataTable['output_type'] = 'display_data';\n",
              "          await google.colab.output.renderOutput(dataTable, element);\n",
              "          const docLink = document.createElement('div');\n",
              "          docLink.innerHTML = docLinkHtml;\n",
              "          element.appendChild(docLink);\n",
              "        }\n",
              "      </script>\n",
              "    </div>\n",
              "  </div>\n",
              "  "
            ],
            "text/plain": [
              "            ID  Source    TMC  Severity  Start_Time  End_Time  Start_Lat  \\\n",
              "0        False   False  False     False       False     False      False   \n",
              "1        False   False  False     False       False     False      False   \n",
              "2        False   False  False     False       False     False      False   \n",
              "3        False   False  False     False       False     False      False   \n",
              "4        False   False  False     False       False     False      False   \n",
              "...        ...     ...    ...       ...         ...       ...        ...   \n",
              "3513612  False   False   True     False       False     False      False   \n",
              "3513613  False   False   True     False       False     False      False   \n",
              "3513614  False   False   True     False       False     False      False   \n",
              "3513615  False   False   True     False       False     False      False   \n",
              "3513616  False   False   True     False       False     False      False   \n",
              "\n",
              "         Start_Lng  End_Lat  End_Lng  ...  Roundabout  Station   Stop  \\\n",
              "0            False     True     True  ...       False    False  False   \n",
              "1            False     True     True  ...       False    False  False   \n",
              "2            False     True     True  ...       False    False  False   \n",
              "3            False     True     True  ...       False    False  False   \n",
              "4            False     True     True  ...       False    False  False   \n",
              "...            ...      ...      ...  ...         ...      ...    ...   \n",
              "3513612      False    False    False  ...       False    False  False   \n",
              "3513613      False    False    False  ...       False    False  False   \n",
              "3513614      False    False    False  ...       False    False  False   \n",
              "3513615      False    False    False  ...       False    False  False   \n",
              "3513616      False    False    False  ...       False    False  False   \n",
              "\n",
              "         Traffic_Calming  Traffic_Signal  Turning_Loop  Sunrise_Sunset  \\\n",
              "0                  False           False         False           False   \n",
              "1                  False           False         False           False   \n",
              "2                  False           False         False           False   \n",
              "3                  False           False         False           False   \n",
              "4                  False           False         False           False   \n",
              "...                  ...             ...           ...             ...   \n",
              "3513612            False           False         False           False   \n",
              "3513613            False           False         False           False   \n",
              "3513614            False           False         False           False   \n",
              "3513615            False           False         False           False   \n",
              "3513616            False           False         False           False   \n",
              "\n",
              "         Civil_Twilight  Nautical_Twilight  Astronomical_Twilight  \n",
              "0                 False              False                  False  \n",
              "1                 False              False                  False  \n",
              "2                 False              False                  False  \n",
              "3                 False              False                  False  \n",
              "4                 False              False                  False  \n",
              "...                 ...                ...                    ...  \n",
              "3513612           False              False                  False  \n",
              "3513613           False              False                  False  \n",
              "3513614           False              False                  False  \n",
              "3513615           False              False                  False  \n",
              "3513616           False              False                  False  \n",
              "\n",
              "[3513617 rows x 49 columns]"
            ]
          },
          "execution_count": 25,
          "metadata": {},
          "output_type": "execute_result"
        }
      ],
      "source": [
        "df.isna()"
      ]
    },
    {
      "cell_type": "code",
      "execution_count": null,
      "metadata": {
        "colab": {
          "base_uri": "https://localhost:8080/",
          "height": 364
        },
        "id": "3WR3R4i0nyLk",
        "outputId": "a6ce917f-5504-4609-b69d-52c4411c3187"
      },
      "outputs": [
        {
          "data": {
            "text/html": [
              "\n",
              "  <div id=\"df-4c7c1468-4cc7-45c2-bc17-78ac70f0c64c\">\n",
              "    <div class=\"colab-df-container\">\n",
              "      <div>\n",
              "<style scoped>\n",
              "    .dataframe tbody tr th:only-of-type {\n",
              "        vertical-align: middle;\n",
              "    }\n",
              "\n",
              "    .dataframe tbody tr th {\n",
              "        vertical-align: top;\n",
              "    }\n",
              "\n",
              "    .dataframe thead th {\n",
              "        text-align: right;\n",
              "    }\n",
              "</style>\n",
              "<table border=\"1\" class=\"dataframe\">\n",
              "  <thead>\n",
              "    <tr style=\"text-align: right;\">\n",
              "      <th></th>\n",
              "      <th>TMC</th>\n",
              "      <th>Severity</th>\n",
              "      <th>Start_Lat</th>\n",
              "      <th>Start_Lng</th>\n",
              "      <th>End_Lat</th>\n",
              "      <th>End_Lng</th>\n",
              "      <th>Distance(mi)</th>\n",
              "      <th>Number</th>\n",
              "      <th>Temperature(F)</th>\n",
              "      <th>Wind_Chill(F)</th>\n",
              "      <th>Humidity(%)</th>\n",
              "      <th>Pressure(in)</th>\n",
              "      <th>Visibility(mi)</th>\n",
              "      <th>Wind_Speed(mph)</th>\n",
              "      <th>Precipitation(in)</th>\n",
              "    </tr>\n",
              "  </thead>\n",
              "  <tbody>\n",
              "    <tr>\n",
              "      <th>count</th>\n",
              "      <td>2.478818e+06</td>\n",
              "      <td>3.513617e+06</td>\n",
              "      <td>3.513617e+06</td>\n",
              "      <td>3.513617e+06</td>\n",
              "      <td>1.034799e+06</td>\n",
              "      <td>1.034799e+06</td>\n",
              "      <td>3.513617e+06</td>\n",
              "      <td>1.250753e+06</td>\n",
              "      <td>3.447885e+06</td>\n",
              "      <td>1.645368e+06</td>\n",
              "      <td>3.443930e+06</td>\n",
              "      <td>3.457735e+06</td>\n",
              "      <td>3.437761e+06</td>\n",
              "      <td>3.059008e+06</td>\n",
              "      <td>1.487743e+06</td>\n",
              "    </tr>\n",
              "    <tr>\n",
              "      <th>mean</th>\n",
              "      <td>2.080226e+02</td>\n",
              "      <td>2.339929e+00</td>\n",
              "      <td>3.654195e+01</td>\n",
              "      <td>-9.579151e+01</td>\n",
              "      <td>3.755758e+01</td>\n",
              "      <td>-1.004560e+02</td>\n",
              "      <td>2.816167e-01</td>\n",
              "      <td>5.975383e+03</td>\n",
              "      <td>6.193512e+01</td>\n",
              "      <td>5.355730e+01</td>\n",
              "      <td>6.511427e+01</td>\n",
              "      <td>2.974463e+01</td>\n",
              "      <td>9.122644e+00</td>\n",
              "      <td>8.219025e+00</td>\n",
              "      <td>1.598256e-02</td>\n",
              "    </tr>\n",
              "    <tr>\n",
              "      <th>std</th>\n",
              "      <td>2.076627e+01</td>\n",
              "      <td>5.521935e-01</td>\n",
              "      <td>4.883520e+00</td>\n",
              "      <td>1.736877e+01</td>\n",
              "      <td>4.861215e+00</td>\n",
              "      <td>1.852879e+01</td>\n",
              "      <td>1.550134e+00</td>\n",
              "      <td>1.496624e+04</td>\n",
              "      <td>1.862106e+01</td>\n",
              "      <td>2.377334e+01</td>\n",
              "      <td>2.275558e+01</td>\n",
              "      <td>8.319758e-01</td>\n",
              "      <td>2.885879e+00</td>\n",
              "      <td>5.262847e+00</td>\n",
              "      <td>1.928262e-01</td>\n",
              "    </tr>\n",
              "    <tr>\n",
              "      <th>min</th>\n",
              "      <td>2.000000e+02</td>\n",
              "      <td>1.000000e+00</td>\n",
              "      <td>2.455527e+01</td>\n",
              "      <td>-1.246238e+02</td>\n",
              "      <td>2.457011e+01</td>\n",
              "      <td>-1.244978e+02</td>\n",
              "      <td>0.000000e+00</td>\n",
              "      <td>0.000000e+00</td>\n",
              "      <td>-8.900000e+01</td>\n",
              "      <td>-8.900000e+01</td>\n",
              "      <td>1.000000e+00</td>\n",
              "      <td>0.000000e+00</td>\n",
              "      <td>0.000000e+00</td>\n",
              "      <td>0.000000e+00</td>\n",
              "      <td>0.000000e+00</td>\n",
              "    </tr>\n",
              "    <tr>\n",
              "      <th>25%</th>\n",
              "      <td>2.010000e+02</td>\n",
              "      <td>2.000000e+00</td>\n",
              "      <td>3.363784e+01</td>\n",
              "      <td>-1.174418e+02</td>\n",
              "      <td>3.399477e+01</td>\n",
              "      <td>-1.183440e+02</td>\n",
              "      <td>0.000000e+00</td>\n",
              "      <td>8.640000e+02</td>\n",
              "      <td>5.000000e+01</td>\n",
              "      <td>3.570000e+01</td>\n",
              "      <td>4.800000e+01</td>\n",
              "      <td>2.973000e+01</td>\n",
              "      <td>1.000000e+01</td>\n",
              "      <td>5.000000e+00</td>\n",
              "      <td>0.000000e+00</td>\n",
              "    </tr>\n",
              "    <tr>\n",
              "      <th>50%</th>\n",
              "      <td>2.010000e+02</td>\n",
              "      <td>2.000000e+00</td>\n",
              "      <td>3.591687e+01</td>\n",
              "      <td>-9.102601e+01</td>\n",
              "      <td>3.779736e+01</td>\n",
              "      <td>-9.703438e+01</td>\n",
              "      <td>0.000000e+00</td>\n",
              "      <td>2.798000e+03</td>\n",
              "      <td>6.400000e+01</td>\n",
              "      <td>5.700000e+01</td>\n",
              "      <td>6.700000e+01</td>\n",
              "      <td>2.995000e+01</td>\n",
              "      <td>1.000000e+01</td>\n",
              "      <td>7.000000e+00</td>\n",
              "      <td>0.000000e+00</td>\n",
              "    </tr>\n",
              "    <tr>\n",
              "      <th>75%</th>\n",
              "      <td>2.010000e+02</td>\n",
              "      <td>3.000000e+00</td>\n",
              "      <td>4.032217e+01</td>\n",
              "      <td>-8.093299e+01</td>\n",
              "      <td>4.105139e+01</td>\n",
              "      <td>-8.210168e+01</td>\n",
              "      <td>1.000000e-02</td>\n",
              "      <td>7.098000e+03</td>\n",
              "      <td>7.590000e+01</td>\n",
              "      <td>7.200000e+01</td>\n",
              "      <td>8.400000e+01</td>\n",
              "      <td>3.009000e+01</td>\n",
              "      <td>1.000000e+01</td>\n",
              "      <td>1.150000e+01</td>\n",
              "      <td>0.000000e+00</td>\n",
              "    </tr>\n",
              "    <tr>\n",
              "      <th>max</th>\n",
              "      <td>4.060000e+02</td>\n",
              "      <td>4.000000e+00</td>\n",
              "      <td>4.900220e+01</td>\n",
              "      <td>-6.711317e+01</td>\n",
              "      <td>4.907500e+01</td>\n",
              "      <td>-6.710924e+01</td>\n",
              "      <td>3.336300e+02</td>\n",
              "      <td>9.999997e+06</td>\n",
              "      <td>1.706000e+02</td>\n",
              "      <td>1.150000e+02</td>\n",
              "      <td>1.000000e+02</td>\n",
              "      <td>5.774000e+01</td>\n",
              "      <td>1.400000e+02</td>\n",
              "      <td>9.840000e+02</td>\n",
              "      <td>2.500000e+01</td>\n",
              "    </tr>\n",
              "  </tbody>\n",
              "</table>\n",
              "</div>\n",
              "      <button class=\"colab-df-convert\" onclick=\"convertToInteractive('df-4c7c1468-4cc7-45c2-bc17-78ac70f0c64c')\"\n",
              "              title=\"Convert this dataframe to an interactive table.\"\n",
              "              style=\"display:none;\">\n",
              "        \n",
              "  <svg xmlns=\"http://www.w3.org/2000/svg\" height=\"24px\"viewBox=\"0 0 24 24\"\n",
              "       width=\"24px\">\n",
              "    <path d=\"M0 0h24v24H0V0z\" fill=\"none\"/>\n",
              "    <path d=\"M18.56 5.44l.94 2.06.94-2.06 2.06-.94-2.06-.94-.94-2.06-.94 2.06-2.06.94zm-11 1L8.5 8.5l.94-2.06 2.06-.94-2.06-.94L8.5 2.5l-.94 2.06-2.06.94zm10 10l.94 2.06.94-2.06 2.06-.94-2.06-.94-.94-2.06-.94 2.06-2.06.94z\"/><path d=\"M17.41 7.96l-1.37-1.37c-.4-.4-.92-.59-1.43-.59-.52 0-1.04.2-1.43.59L10.3 9.45l-7.72 7.72c-.78.78-.78 2.05 0 2.83L4 21.41c.39.39.9.59 1.41.59.51 0 1.02-.2 1.41-.59l7.78-7.78 2.81-2.81c.8-.78.8-2.07 0-2.86zM5.41 20L4 18.59l7.72-7.72 1.47 1.35L5.41 20z\"/>\n",
              "  </svg>\n",
              "      </button>\n",
              "      \n",
              "  <style>\n",
              "    .colab-df-container {\n",
              "      display:flex;\n",
              "      flex-wrap:wrap;\n",
              "      gap: 12px;\n",
              "    }\n",
              "\n",
              "    .colab-df-convert {\n",
              "      background-color: #E8F0FE;\n",
              "      border: none;\n",
              "      border-radius: 50%;\n",
              "      cursor: pointer;\n",
              "      display: none;\n",
              "      fill: #1967D2;\n",
              "      height: 32px;\n",
              "      padding: 0 0 0 0;\n",
              "      width: 32px;\n",
              "    }\n",
              "\n",
              "    .colab-df-convert:hover {\n",
              "      background-color: #E2EBFA;\n",
              "      box-shadow: 0px 1px 2px rgba(60, 64, 67, 0.3), 0px 1px 3px 1px rgba(60, 64, 67, 0.15);\n",
              "      fill: #174EA6;\n",
              "    }\n",
              "\n",
              "    [theme=dark] .colab-df-convert {\n",
              "      background-color: #3B4455;\n",
              "      fill: #D2E3FC;\n",
              "    }\n",
              "\n",
              "    [theme=dark] .colab-df-convert:hover {\n",
              "      background-color: #434B5C;\n",
              "      box-shadow: 0px 1px 3px 1px rgba(0, 0, 0, 0.15);\n",
              "      filter: drop-shadow(0px 1px 2px rgba(0, 0, 0, 0.3));\n",
              "      fill: #FFFFFF;\n",
              "    }\n",
              "  </style>\n",
              "\n",
              "      <script>\n",
              "        const buttonEl =\n",
              "          document.querySelector('#df-4c7c1468-4cc7-45c2-bc17-78ac70f0c64c button.colab-df-convert');\n",
              "        buttonEl.style.display =\n",
              "          google.colab.kernel.accessAllowed ? 'block' : 'none';\n",
              "\n",
              "        async function convertToInteractive(key) {\n",
              "          const element = document.querySelector('#df-4c7c1468-4cc7-45c2-bc17-78ac70f0c64c');\n",
              "          const dataTable =\n",
              "            await google.colab.kernel.invokeFunction('convertToInteractive',\n",
              "                                                     [key], {});\n",
              "          if (!dataTable) return;\n",
              "\n",
              "          const docLinkHtml = 'Like what you see? Visit the ' +\n",
              "            '<a target=\"_blank\" href=https://colab.research.google.com/notebooks/data_table.ipynb>data table notebook</a>'\n",
              "            + ' to learn more about interactive tables.';\n",
              "          element.innerHTML = '';\n",
              "          dataTable['output_type'] = 'display_data';\n",
              "          await google.colab.output.renderOutput(dataTable, element);\n",
              "          const docLink = document.createElement('div');\n",
              "          docLink.innerHTML = docLinkHtml;\n",
              "          element.appendChild(docLink);\n",
              "        }\n",
              "      </script>\n",
              "    </div>\n",
              "  </div>\n",
              "  "
            ],
            "text/plain": [
              "                TMC      Severity     Start_Lat     Start_Lng       End_Lat  \\\n",
              "count  2.478818e+06  3.513617e+06  3.513617e+06  3.513617e+06  1.034799e+06   \n",
              "mean   2.080226e+02  2.339929e+00  3.654195e+01 -9.579151e+01  3.755758e+01   \n",
              "std    2.076627e+01  5.521935e-01  4.883520e+00  1.736877e+01  4.861215e+00   \n",
              "min    2.000000e+02  1.000000e+00  2.455527e+01 -1.246238e+02  2.457011e+01   \n",
              "25%    2.010000e+02  2.000000e+00  3.363784e+01 -1.174418e+02  3.399477e+01   \n",
              "50%    2.010000e+02  2.000000e+00  3.591687e+01 -9.102601e+01  3.779736e+01   \n",
              "75%    2.010000e+02  3.000000e+00  4.032217e+01 -8.093299e+01  4.105139e+01   \n",
              "max    4.060000e+02  4.000000e+00  4.900220e+01 -6.711317e+01  4.907500e+01   \n",
              "\n",
              "            End_Lng  Distance(mi)        Number  Temperature(F)  \\\n",
              "count  1.034799e+06  3.513617e+06  1.250753e+06    3.447885e+06   \n",
              "mean  -1.004560e+02  2.816167e-01  5.975383e+03    6.193512e+01   \n",
              "std    1.852879e+01  1.550134e+00  1.496624e+04    1.862106e+01   \n",
              "min   -1.244978e+02  0.000000e+00  0.000000e+00   -8.900000e+01   \n",
              "25%   -1.183440e+02  0.000000e+00  8.640000e+02    5.000000e+01   \n",
              "50%   -9.703438e+01  0.000000e+00  2.798000e+03    6.400000e+01   \n",
              "75%   -8.210168e+01  1.000000e-02  7.098000e+03    7.590000e+01   \n",
              "max   -6.710924e+01  3.336300e+02  9.999997e+06    1.706000e+02   \n",
              "\n",
              "       Wind_Chill(F)   Humidity(%)  Pressure(in)  Visibility(mi)  \\\n",
              "count   1.645368e+06  3.443930e+06  3.457735e+06    3.437761e+06   \n",
              "mean    5.355730e+01  6.511427e+01  2.974463e+01    9.122644e+00   \n",
              "std     2.377334e+01  2.275558e+01  8.319758e-01    2.885879e+00   \n",
              "min    -8.900000e+01  1.000000e+00  0.000000e+00    0.000000e+00   \n",
              "25%     3.570000e+01  4.800000e+01  2.973000e+01    1.000000e+01   \n",
              "50%     5.700000e+01  6.700000e+01  2.995000e+01    1.000000e+01   \n",
              "75%     7.200000e+01  8.400000e+01  3.009000e+01    1.000000e+01   \n",
              "max     1.150000e+02  1.000000e+02  5.774000e+01    1.400000e+02   \n",
              "\n",
              "       Wind_Speed(mph)  Precipitation(in)  \n",
              "count     3.059008e+06       1.487743e+06  \n",
              "mean      8.219025e+00       1.598256e-02  \n",
              "std       5.262847e+00       1.928262e-01  \n",
              "min       0.000000e+00       0.000000e+00  \n",
              "25%       5.000000e+00       0.000000e+00  \n",
              "50%       7.000000e+00       0.000000e+00  \n",
              "75%       1.150000e+01       0.000000e+00  \n",
              "max       9.840000e+02       2.500000e+01  "
            ]
          },
          "execution_count": 23,
          "metadata": {},
          "output_type": "execute_result"
        }
      ],
      "source": [
        "df.describe()"
      ]
    },
    {
      "cell_type": "code",
      "execution_count": null,
      "metadata": {
        "colab": {
          "base_uri": "https://localhost:8080/"
        },
        "id": "e2YxfQtFnyJ1",
        "outputId": "49915570-f26e-4b91-c5dd-4abb23426471"
      },
      "outputs": [
        {
          "data": {
            "text/plain": [
              "15"
            ]
          },
          "execution_count": 24,
          "metadata": {},
          "output_type": "execute_result"
        }
      ],
      "source": [
        "numerics = ['int16','int32','int64','float16','float32','float64']\n",
        "\n",
        "numeric_df =  df.select_dtypes(include=numerics)\n",
        "len(numeric_df.columns)"
      ]
    },
    {
      "cell_type": "markdown",
      "metadata": {
        "id": "Syx5fZRXn-ZJ"
      },
      "source": []
    },
    {
      "cell_type": "markdown",
      "metadata": {
        "id": "3-LAjzBan1J7"
      },
      "source": [
        "## Exploratory Analysis and Visualization\n",
        "\n",
        "Columns we'll analyze\n",
        "\n",
        "\n",
        "1. City\n",
        "2. start Time\n",
        "3. Start Lat,Start Lng\n",
        "4. Temperature\n",
        "5. Weather Condition\n",
        "\n",
        "\n",
        "\n",
        "\n",
        "\n",
        "\n"
      ]
    },
    {
      "cell_type": "code",
      "execution_count": null,
      "metadata": {
        "colab": {
          "base_uri": "https://localhost:8080/"
        },
        "id": "04HesoyanyRH",
        "outputId": "8651fcbe-d6c9-4b8a-c608-70f268174194"
      },
      "outputs": [
        {
          "data": {
            "text/plain": [
              "Index(['ID', 'Source', 'TMC', 'Severity', 'Start_Time', 'End_Time',\n",
              "       'Start_Lat', 'Start_Lng', 'End_Lat', 'End_Lng', 'Distance(mi)',\n",
              "       'Description', 'Number', 'Street', 'Side', 'City', 'County', 'State',\n",
              "       'Zipcode', 'Country', 'Timezone', 'Airport_Code', 'Weather_Timestamp',\n",
              "       'Temperature(F)', 'Wind_Chill(F)', 'Humidity(%)', 'Pressure(in)',\n",
              "       'Visibility(mi)', 'Wind_Direction', 'Wind_Speed(mph)',\n",
              "       'Precipitation(in)', 'Weather_Condition', 'Amenity', 'Bump', 'Crossing',\n",
              "       'Give_Way', 'Junction', 'No_Exit', 'Railway', 'Roundabout', 'Station',\n",
              "       'Stop', 'Traffic_Calming', 'Traffic_Signal', 'Turning_Loop',\n",
              "       'Sunrise_Sunset', 'Civil_Twilight', 'Nautical_Twilight',\n",
              "       'Astronomical_Twilight'],\n",
              "      dtype='object')"
            ]
          },
          "execution_count": 20,
          "metadata": {},
          "output_type": "execute_result"
        }
      ],
      "source": [
        "df.columns"
      ]
    },
    {
      "cell_type": "code",
      "execution_count": null,
      "metadata": {
        "colab": {
          "base_uri": "https://localhost:8080/"
        },
        "id": "s8Lj9xpunyN5",
        "outputId": "a7d4dbff-8805-45a1-db5a-01c28a6a5c09"
      },
      "outputs": [
        {
          "data": {
            "text/plain": [
              "3513617"
            ]
          },
          "execution_count": 22,
          "metadata": {},
          "output_type": "execute_result"
        }
      ],
      "source": [
        "len(df)"
      ]
    },
    {
      "cell_type": "markdown",
      "metadata": {
        "id": "GdfPGn2I1v-D"
      },
      "source": [
        "## City"
      ]
    },
    {
      "cell_type": "code",
      "execution_count": null,
      "metadata": {
        "colab": {
          "base_uri": "https://localhost:8080/"
        },
        "id": "F-pAqGKdoHru",
        "outputId": "1f5fb0f5-0594-4e90-9216-7449bb2b049b"
      },
      "outputs": [
        {
          "data": {
            "text/plain": [
              "11896"
            ]
          },
          "execution_count": 44,
          "metadata": {},
          "output_type": "execute_result"
        }
      ],
      "source": [
        "cities = df.City.unique()\n",
        "len(cities)"
      ]
    },
    {
      "cell_type": "code",
      "execution_count": null,
      "metadata": {
        "colab": {
          "base_uri": "https://localhost:8080/"
        },
        "id": "RkyZOquLoHvI",
        "outputId": "de10bb60-116e-4db4-9809-0fb53c1dcdaf"
      },
      "outputs": [
        {
          "data": {
            "text/plain": [
              "0                Dayton\n",
              "1          Reynoldsburg\n",
              "2          Williamsburg\n",
              "3                Dayton\n",
              "4                Dayton\n",
              "               ...     \n",
              "3513612       Riverside\n",
              "3513613       San Diego\n",
              "3513614          Orange\n",
              "3513615     Culver City\n",
              "3513616        Highland\n",
              "Name: City, Length: 3513617, dtype: object"
            ]
          },
          "execution_count": 40,
          "metadata": {},
          "output_type": "execute_result"
        }
      ],
      "source": [
        "df.City"
      ]
    },
    {
      "cell_type": "code",
      "execution_count": null,
      "metadata": {
        "colab": {
          "base_uri": "https://localhost:8080/"
        },
        "id": "FEFau7PtoHpA",
        "outputId": "87f09675-6cee-4d5d-bd6d-34ed180da02f"
      },
      "outputs": [
        {
          "data": {
            "text/plain": [
              "Houston                         101240\n",
              "Los Angeles                      79169\n",
              "Charlotte                        78952\n",
              "Dallas                           64790\n",
              "Austin                           63889\n",
              "                                 ...  \n",
              "Dilley                               1\n",
              "Dunnville                            1\n",
              "Rock Hall                            1\n",
              "Teachey                              1\n",
              "American Fork-Pleasant Grove         1\n",
              "Name: City, Length: 11895, dtype: int64"
            ]
          },
          "execution_count": 46,
          "metadata": {},
          "output_type": "execute_result"
        }
      ],
      "source": [
        "cities_by_accident = df.City.value_counts()\n",
        "cities_by_accident"
      ]
    },
    {
      "cell_type": "code",
      "execution_count": null,
      "metadata": {
        "colab": {
          "base_uri": "https://localhost:8080/"
        },
        "id": "ZyCfYtaOJoYT",
        "outputId": "547586ae-2d70-4d8e-e342-11e1f85e6a7a"
      },
      "outputs": [
        {
          "data": {
            "text/plain": [
              "Houston          101240\n",
              "Los Angeles       79169\n",
              "Charlotte         78952\n",
              "Dallas            64790\n",
              "Austin            63889\n",
              "Raleigh           44675\n",
              "Atlanta           41126\n",
              "Oklahoma City     36340\n",
              "Miami             34549\n",
              "Baton Rouge       34090\n",
              "Name: City, dtype: int64"
            ]
          },
          "execution_count": 47,
          "metadata": {},
          "output_type": "execute_result"
        }
      ],
      "source": [
        "cities_by_accident[:10]"
      ]
    },
    {
      "cell_type": "code",
      "execution_count": null,
      "metadata": {
        "colab": {
          "base_uri": "https://localhost:8080/"
        },
        "id": "kwMQP0pwJoVe",
        "outputId": "ba0c3d2d-4ee6-4421-d304-ef2890031b2b"
      },
      "outputs": [
        {
          "data": {
            "text/plain": [
              "Houston          101240\n",
              "Los Angeles       79169\n",
              "Charlotte         78952\n",
              "Dallas            64790\n",
              "Austin            63889\n",
              "Raleigh           44675\n",
              "Atlanta           41126\n",
              "Oklahoma City     36340\n",
              "Miami             34549\n",
              "Baton Rouge       34090\n",
              "Nashville         32919\n",
              "Sacramento        32661\n",
              "Orlando           29272\n",
              "Phoenix           28580\n",
              "Minneapolis       26730\n",
              "Seattle           26056\n",
              "San Diego         25527\n",
              "San Antonio       24514\n",
              "Richmond          23902\n",
              "San Jose          20723\n",
              "Name: City, dtype: int64"
            ]
          },
          "execution_count": 48,
          "metadata": {},
          "output_type": "execute_result"
        }
      ],
      "source": [
        "cities_by_accident[:20]"
      ]
    },
    {
      "cell_type": "code",
      "execution_count": null,
      "metadata": {
        "colab": {
          "base_uri": "https://localhost:8080/"
        },
        "id": "Q3eqUsDoJoSs",
        "outputId": "b2661e1f-76aa-4896-e8ba-b617e3974747"
      },
      "outputs": [
        {
          "data": {
            "text/plain": [
              "False"
            ]
          },
          "execution_count": 50,
          "metadata": {},
          "output_type": "execute_result"
        }
      ],
      "source": [
        "'New York' in df.City"
      ]
    },
    {
      "cell_type": "code",
      "execution_count": null,
      "metadata": {
        "colab": {
          "base_uri": "https://localhost:8080/",
          "height": 282
        },
        "id": "RpCnbktrJoQ_",
        "outputId": "0bb51826-90ad-4b5e-bf0e-8d655e29e206"
      },
      "outputs": [
        {
          "data": {
            "text/plain": [
              "<matplotlib.axes._subplots.AxesSubplot at 0x7f376cb97b90>"
            ]
          },
          "execution_count": 52,
          "metadata": {},
          "output_type": "execute_result"
        },
        {
          "data": {
            "image/png": "[encoded data removed]",
            "text/plain": [
              "<Figure size 432x288 with 1 Axes>"
            ]
          },
          "metadata": {
            "needs_background": "light"
          },
          "output_type": "display_data"
        }
      ],
      "source": [
        "cities_by_accident[:20].plot(kind= 'barh')"
      ]
    },
    {
      "cell_type": "code",
      "execution_count": null,
      "metadata": {
        "id": "eEZRPK4AJoOM"
      },
      "outputs": [],
      "source": [
        "import seaborn as sns\n",
        "sns.set_style(\"darkgrid\")"
      ]
    },
    {
      "cell_type": "code",
      "execution_count": null,
      "metadata": {
        "colab": {
          "base_uri": "https://localhost:8080/",
          "height": 296
        },
        "id": "sKyoTM46JoMT",
        "outputId": "9af84e30-d539-4fd3-98e3-929a1bef9e21"
      },
      "outputs": [
        {
          "data": {
            "text/plain": [
              "<matplotlib.axes._subplots.AxesSubplot at 0x7f374ec18810>"
            ]
          },
          "execution_count": 54,
          "metadata": {},
          "output_type": "execute_result"
        },
        {
          "data": {
            "image/png": "[encoded data removed]",
            "text/plain": [
              "<Figure size 432x288 with 1 Axes>"
            ]
          },
          "metadata": {},
          "output_type": "display_data"
        }
      ],
      "source": [
        "sns.histplot(cities_by_accident)"
      ]
    },
    {
      "cell_type": "code",
      "execution_count": null,
      "metadata": {
        "colab": {
          "base_uri": "https://localhost:8080/"
        },
        "id": "UZwHRfTNJoKv",
        "outputId": "49836819-b5cb-47ea-8808-2006106ba3d2"
      },
      "outputs": [
        {
          "data": {
            "text/plain": [
              "11895"
            ]
          },
          "execution_count": 76,
          "metadata": {},
          "output_type": "execute_result"
        }
      ],
      "source": [
        "len(cities_by_accident)"
      ]
    },
    {
      "cell_type": "code",
      "execution_count": null,
      "metadata": {
        "colab": {
          "base_uri": "https://localhost:8080/",
          "height": 386
        },
        "id": "uue4KDUHJoI2",
        "outputId": "8838bdbb-e3ae-43a6-d0d0-98c2a698d4b8"
      },
      "outputs": [
        {
          "data": {
            "text/plain": [
              "<seaborn.axisgrid.FacetGrid at 0x7f3745ddd450>"
            ]
          },
          "execution_count": 59,
          "metadata": {},
          "output_type": "execute_result"
        },
        {
          "data": {
            "image/png": "[encoded data removed]",
            "text/plain": [
              "<Figure size 360x360 with 1 Axes>"
            ]
          },
          "metadata": {},
          "output_type": "display_data"
        }
      ],
      "source": [
        "sns.displot(high_accident_cities)"
      ]
    },
    {
      "cell_type": "code",
      "execution_count": null,
      "metadata": {
        "id": "ar2lQFhoJoGX"
      },
      "outputs": [],
      "source": [
        "high_accident_cities= cities_by_accident[cities_by_accident >= 1000]\n",
        "low_accident_cities = cities_by_accident[cities_by_accident<1000]"
      ]
    },
    {
      "cell_type": "code",
      "execution_count": null,
      "metadata": {
        "colab": {
          "base_uri": "https://localhost:8080/"
        },
        "id": "tbSZZQE7JoEC",
        "outputId": "d899fa73-81bb-496f-d2ca-ee68bca38a86"
      },
      "outputs": [
        {
          "data": {
            "text/plain": [
              "0.049512441156691324"
            ]
          },
          "execution_count": 58,
          "metadata": {},
          "output_type": "execute_result"
        }
      ],
      "source": [
        "len(high_accident_cities) / len(cities)"
      ]
    },
    {
      "cell_type": "code",
      "execution_count": null,
      "metadata": {
        "colab": {
          "base_uri": "https://localhost:8080/",
          "height": 386
        },
        "id": "QpX8M3KoOZ7k",
        "outputId": "5eb4d946-660a-4db7-aee4-5f9a619f07a0"
      },
      "outputs": [
        {
          "data": {
            "text/plain": [
              "<seaborn.axisgrid.FacetGrid at 0x7f373c09eb50>"
            ]
          },
          "execution_count": 60,
          "metadata": {},
          "output_type": "execute_result"
        },
        {
          "data": {
            "image/png": "[encoded data removed]",
            "text/plain": [
              "<Figure size 360x360 with 1 Axes>"
            ]
          },
          "metadata": {},
          "output_type": "display_data"
        }
      ],
      "source": [
        "sns.displot(low_accident_cities)"
      ]
    },
    {
      "cell_type": "code",
      "execution_count": null,
      "metadata": {
        "colab": {
          "base_uri": "https://localhost:8080/",
          "height": 303
        },
        "id": "d7jL_uhhOZ4M",
        "outputId": "b8711a4c-1f64-4f4b-a7e5-a7f026f16bb6"
      },
      "outputs": [
        {
          "data": {
            "text/plain": [
              "<matplotlib.axes._subplots.AxesSubplot at 0x7f373bc99410>"
            ]
          },
          "execution_count": 62,
          "metadata": {},
          "output_type": "execute_result"
        },
        {
          "data": {
            "image/png": "[encoded data removed]",
            "text/plain": [
              "<Figure size 432x288 with 1 Axes>"
            ]
          },
          "metadata": {},
          "output_type": "display_data"
        }
      ],
      "source": [
        "sns.histplot(cities_by_accident, log_scale=True)"
      ]
    },
    {
      "cell_type": "code",
      "execution_count": null,
      "metadata": {
        "colab": {
          "base_uri": "https://localhost:8080/"
        },
        "id": "FA4HqrwSOZq6",
        "outputId": "f1b94077-5c14-4c98-fa2b-e34941f5f9f0"
      },
      "outputs": [
        {
          "data": {
            "text/plain": [
              "Downing                         1\n",
              "Holly Grove                     1\n",
              "Cherryvale                      1\n",
              "Bardonia                        1\n",
              "Brushton                        1\n",
              "                               ..\n",
              "Dilley                          1\n",
              "Dunnville                       1\n",
              "Rock Hall                       1\n",
              "Teachey                         1\n",
              "American Fork-Pleasant Grove    1\n",
              "Name: City, Length: 1338, dtype: int64"
            ]
          },
          "execution_count": 63,
          "metadata": {},
          "output_type": "execute_result"
        }
      ],
      "source": [
        "cities_by_accident[cities_by_accident==1]"
      ]
    },
    {
      "cell_type": "markdown",
      "metadata": {
        "id": "TLV27kMKR6ze"
      },
      "source": [
        "## Start Time"
      ]
    },
    {
      "cell_type": "code",
      "execution_count": null,
      "metadata": {
        "colab": {
          "base_uri": "https://localhost:8080/",
          "height": 36
        },
        "id": "sG6AbHt1OZnX",
        "outputId": "0009943a-1469-4a27-fe45-42dce0bc5c5b"
      },
      "outputs": [
        {
          "data": {
            "application/vnd.google.colaboratory.intrinsic+json": {
              "type": "string"
            },
            "text/plain": [
              "'2016-02-08 05:46:00'"
            ]
          },
          "execution_count": 64,
          "metadata": {},
          "output_type": "execute_result"
        }
      ],
      "source": [
        "df.Start_Time[0]"
      ]
    },
    {
      "cell_type": "code",
      "execution_count": null,
      "metadata": {
        "id": "112-2A8dOZli"
      },
      "outputs": [],
      "source": [
        "df.Start_Time =pd.to_datetime(df.Start_Time)"
      ]
    },
    {
      "cell_type": "code",
      "execution_count": null,
      "metadata": {
        "colab": {
          "base_uri": "https://localhost:8080/"
        },
        "id": "dTcLFYssOZiW",
        "outputId": "4b2c7297-2775-49ce-a529-371c3611bbff"
      },
      "outputs": [
        {
          "data": {
            "text/plain": [
              "Timestamp('2016-02-08 05:46:00')"
            ]
          },
          "execution_count": 69,
          "metadata": {},
          "output_type": "execute_result"
        }
      ],
      "source": [
        "df.Start_Time[0]"
      ]
    },
    {
      "cell_type": "code",
      "execution_count": null,
      "metadata": {
        "colab": {
          "base_uri": "https://localhost:8080/"
        },
        "id": "NOUqm2T8OZf6",
        "outputId": "71534b29-ae52-4642-aedd-ca46771075fe"
      },
      "outputs": [
        {
          "data": {
            "text/plain": [
              "0         2016-02-08 05:46:00\n",
              "1         2016-02-08 06:07:59\n",
              "2         2016-02-08 06:49:27\n",
              "3         2016-02-08 07:23:34\n",
              "4         2016-02-08 07:39:07\n",
              "                  ...        \n",
              "3513612   2019-08-23 18:03:25\n",
              "3513613   2019-08-23 19:11:30\n",
              "3513614   2019-08-23 19:00:21\n",
              "3513615   2019-08-23 19:00:21\n",
              "3513616   2019-08-23 18:52:06\n",
              "Name: Start_Time, Length: 3513617, dtype: datetime64[ns]"
            ]
          },
          "execution_count": 70,
          "metadata": {},
          "output_type": "execute_result"
        }
      ],
      "source": [
        "df.Start_Time"
      ]
    },
    {
      "cell_type": "code",
      "execution_count": null,
      "metadata": {
        "colab": {
          "base_uri": "https://localhost:8080/"
        },
        "id": "PgXcMp02OZc1",
        "outputId": "263eba1f-4eca-405d-dcf8-202f0dbb6bd3"
      },
      "outputs": [
        {
          "data": {
            "text/plain": [
              "0           5\n",
              "1           6\n",
              "2           6\n",
              "3           7\n",
              "4           7\n",
              "           ..\n",
              "3513612    18\n",
              "3513613    19\n",
              "3513614    19\n",
              "3513615    19\n",
              "3513616    18\n",
              "Name: Start_Time, Length: 3513617, dtype: int64"
            ]
          },
          "execution_count": 71,
          "metadata": {},
          "output_type": "execute_result"
        }
      ],
      "source": [
        "df.Start_Time.dt.hour"
      ]
    },
    {
      "cell_type": "code",
      "execution_count": null,
      "metadata": {
        "colab": {
          "base_uri": "https://localhost:8080/",
          "height": 297
        },
        "id": "sf9K9sUyOZay",
        "outputId": "88e823b7-3225-46f2-80cf-3e51cc323c45"
      },
      "outputs": [
        {
          "data": {
            "text/plain": [
              "<matplotlib.axes._subplots.AxesSubplot at 0x7f373b0b8c10>"
            ]
          },
          "execution_count": 73,
          "metadata": {},
          "output_type": "execute_result"
        },
        {
          "data": {
            "image/png": "[encoded data removed]",
            "text/plain": [
              "<Figure size 432x288 with 1 Axes>"
            ]
          },
          "metadata": {},
          "output_type": "display_data"
        }
      ],
      "source": [
        "sns.histplot(df.Start_Time.dt.hour,bins = 24)"
      ]
    },
    {
      "cell_type": "code",
      "execution_count": null,
      "metadata": {
        "colab": {
          "base_uri": "https://localhost:8080/",
          "height": 352
        },
        "id": "MaepjBdHOZYw",
        "outputId": "370d4d94-6387-4978-8eda-a3d805212c75"
      },
      "outputs": [
        {
          "name": "stderr",
          "output_type": "stream",
          "text": [
            "/usr/local/lib/python3.7/dist-packages/seaborn/distributions.py:2619: FutureWarning: `distplot` is a deprecated function and will be removed in a future version. Please adapt your code to use either `displot` (a figure-level function with similar flexibility) or `histplot` (an axes-level function for histograms).\n",
            "  warnings.warn(msg, FutureWarning)\n"
          ]
        },
        {
          "data": {
            "text/plain": [
              "<matplotlib.axes._subplots.AxesSubplot at 0x7f373b173f50>"
            ]
          },
          "execution_count": 74,
          "metadata": {},
          "output_type": "execute_result"
        },
        {
          "data": {
            "image/png": "[encoded data removed]",
            "text/plain": [
              "<Figure size 432x288 with 1 Axes>"
            ]
          },
          "metadata": {},
          "output_type": "display_data"
        }
      ],
      "source": [
        "sns.distplot(df.Start_Time.dt.hour, bins=24)"
      ]
    },
    {
      "cell_type": "code",
      "execution_count": null,
      "metadata": {
        "colab": {
          "base_uri": "https://localhost:8080/",
          "height": 353
        },
        "id": "HeC-HY18OZVz",
        "outputId": "59c2e4e6-8412-4079-d86a-e453c304bcf8"
      },
      "outputs": [
        {
          "name": "stderr",
          "output_type": "stream",
          "text": [
            "/usr/local/lib/python3.7/dist-packages/seaborn/distributions.py:2619: FutureWarning: `distplot` is a deprecated function and will be removed in a future version. Please adapt your code to use either `displot` (a figure-level function with similar flexibility) or `histplot` (an axes-level function for histograms).\n",
            "  warnings.warn(msg, FutureWarning)\n"
          ]
        },
        {
          "data": {
            "text/plain": [
              "<matplotlib.axes._subplots.AxesSubplot at 0x7f373afab650>"
            ]
          },
          "execution_count": 75,
          "metadata": {},
          "output_type": "execute_result"
        },
        {
          "data": {
            "image/png": "[encoded data removed]",
            "text/plain": [
              "<Figure size 432x288 with 1 Axes>"
            ]
          },
          "metadata": {},
          "output_type": "display_data"
        }
      ],
      "source": [
        "sns.distplot(df.Start_Time.dt.hour, bins=24, kde=False ,norm_hist= True)"
      ]
    },
    {
      "cell_type": "markdown",
      "metadata": {
        "id": "IKkkAuKNWJ1f"
      },
      "source": [
        "- A high percentage of accidents occur between 6 am to 10 am (probably people in a hurry to get to work)\n",
        "- Next highest percentage is 3 pm to 6 pm .\n"
      ]
    },
    {
      "cell_type": "code",
      "execution_count": null,
      "metadata": {
        "colab": {
          "base_uri": "https://localhost:8080/",
          "height": 352
        },
        "id": "Occ354cROZTb",
        "outputId": "dce22d12-103d-45a3-bbf0-c5aa15c5eee8"
      },
      "outputs": [
        {
          "name": "stderr",
          "output_type": "stream",
          "text": [
            "/usr/local/lib/python3.7/dist-packages/seaborn/distributions.py:2619: FutureWarning: `distplot` is a deprecated function and will be removed in a future version. Please adapt your code to use either `displot` (a figure-level function with similar flexibility) or `histplot` (an axes-level function for histograms).\n",
            "  warnings.warn(msg, FutureWarning)\n"
          ]
        },
        {
          "data": {
            "text/plain": [
              "<matplotlib.axes._subplots.AxesSubplot at 0x7f373aec8fd0>"
            ]
          },
          "execution_count": 77,
          "metadata": {},
          "output_type": "execute_result"
        },
        {
          "data": {
            "image/png": "[encoded data removed]",
            "text/plain": [
              "<Figure size 432x288 with 1 Axes>"
            ]
          },
          "metadata": {},
          "output_type": "display_data"
        }
      ],
      "source": [
        "sns.distplot(df.Start_Time.dt.dayofweek, bins=7, kde=False,norm_hist = True )"
      ]
    },
    {
      "cell_type": "markdown",
      "metadata": {
        "id": "L52BJmN0fSru"
      },
      "source": [
        "Is the distribution of accidebts by hour the same on weekends as on weekdays"
      ]
    },
    {
      "cell_type": "code",
      "execution_count": null,
      "metadata": {
        "colab": {
          "base_uri": "https://localhost:8080/"
        },
        "id": "qsqOXjUHfESj",
        "outputId": "ea54e504-dd61-4600-de32-d8bd35b6e071"
      },
      "outputs": [
        {
          "data": {
            "text/plain": [
              "135       2016-02-14 10:13:00\n",
              "136       2016-02-14 10:49:23\n",
              "137       2016-02-14 10:41:57\n",
              "138       2016-02-14 18:15:23\n",
              "139       2016-02-14 19:17:01\n",
              "                  ...        \n",
              "3511363   2019-08-18 22:48:14\n",
              "3511364   2019-08-18 23:24:10\n",
              "3511478   2019-08-18 22:56:56\n",
              "3511479   2019-08-18 22:56:56\n",
              "3511518   2019-08-18 22:54:41\n",
              "Name: Start_Time, Length: 189315, dtype: datetime64[ns]"
            ]
          },
          "execution_count": 81,
          "metadata": {},
          "output_type": "execute_result"
        }
      ],
      "source": [
        "sundays_start_time = df.Start_Time[df.Start_Time.dt.dayofweek == 6 ]\n",
        "sundays_start_time"
      ]
    },
    {
      "cell_type": "code",
      "execution_count": null,
      "metadata": {
        "colab": {
          "base_uri": "https://localhost:8080/",
          "height": 352
        },
        "id": "WwGNdeucfEPE",
        "outputId": "0e0790c9-2673-4fdf-eb07-fedb5ab8a3b5"
      },
      "outputs": [
        {
          "name": "stderr",
          "output_type": "stream",
          "text": [
            "/usr/local/lib/python3.7/dist-packages/seaborn/distributions.py:2619: FutureWarning: `distplot` is a deprecated function and will be removed in a future version. Please adapt your code to use either `displot` (a figure-level function with similar flexibility) or `histplot` (an axes-level function for histograms).\n",
            "  warnings.warn(msg, FutureWarning)\n"
          ]
        },
        {
          "data": {
            "text/plain": [
              "<matplotlib.axes._subplots.AxesSubplot at 0x7f373ae4a5d0>"
            ]
          },
          "execution_count": 82,
          "metadata": {},
          "output_type": "execute_result"
        },
        {
          "data": {
            "image/png": "[encoded data removed]",
            "text/plain": [
              "<Figure size 432x288 with 1 Axes>"
            ]
          },
          "metadata": {},
          "output_type": "display_data"
        }
      ],
      "source": [
        "sns.distplot(sundays_start_time.dt.hour, bins=24, kde=False, norm_hist=True)"
      ]
    },
    {
      "cell_type": "code",
      "execution_count": null,
      "metadata": {
        "colab": {
          "base_uri": "https://localhost:8080/"
        },
        "id": "TNjTmh28g9aW",
        "outputId": "68fd78cd-2206-46fb-c3a1-c0b6ad824683"
      },
      "outputs": [
        {
          "data": {
            "text/plain": [
              "0         2016-02-08 05:46:00\n",
              "1         2016-02-08 06:07:59\n",
              "2         2016-02-08 06:49:27\n",
              "3         2016-02-08 07:23:34\n",
              "4         2016-02-08 07:39:07\n",
              "                  ...        \n",
              "3511558   2019-08-19 20:43:02\n",
              "3511559   2019-08-19 20:41:30\n",
              "3511922   2019-08-19 22:18:31\n",
              "3511923   2019-08-19 22:21:28\n",
              "3511924   2019-08-19 22:31:15\n",
              "Name: Start_Time, Length: 592871, dtype: datetime64[ns]"
            ]
          },
          "execution_count": 83,
          "metadata": {},
          "output_type": "execute_result"
        }
      ],
      "source": [
        "monday_start_time = df.Start_Time[df.Start_Time.dt.dayofweek == 0]\n",
        "monday_start_time"
      ]
    },
    {
      "cell_type": "code",
      "execution_count": null,
      "metadata": {
        "colab": {
          "base_uri": "https://localhost:8080/",
          "height": 297
        },
        "id": "oWhFuKX3hLND",
        "outputId": "226d6c5f-ed61-4e39-af47-be18ed392d62"
      },
      "outputs": [
        {
          "data": {
            "text/plain": [
              "<matplotlib.axes._subplots.AxesSubplot at 0x7f373ade2fd0>"
            ]
          },
          "execution_count": 84,
          "metadata": {},
          "output_type": "execute_result"
        },
        {
          "data": {
            "image/png": "[encoded data removed]",
            "text/plain": [
              "<Figure size 432x288 with 1 Axes>"
            ]
          },
          "metadata": {},
          "output_type": "display_data"
        }
      ],
      "source": [
        "sns.distplot(monday_start_time.dt.hour, bins=24, kde=False, norm_hist=True)"
      ]
    },
    {
      "cell_type": "markdown",
      "metadata": {
        "id": "l9psg7VJhUhq"
      },
      "source": [
        "On Sundays, the peak occurs between 10 am and 3 pm, unlike weeekdays"
      ]
    },
    {
      "cell_type": "code",
      "execution_count": null,
      "metadata": {
        "colab": {
          "base_uri": "https://localhost:8080/"
        },
        "id": "Sf0EcZoOl_zZ",
        "outputId": "5134e46a-88fc-4253-a10f-c881d9ff2837"
      },
      "outputs": [
        {
          "data": {
            "text/plain": [
              "0         2016-02-08 05:46:00\n",
              "1         2016-02-08 06:07:59\n",
              "2         2016-02-08 06:49:27\n",
              "3         2016-02-08 07:23:34\n",
              "4         2016-02-08 07:39:07\n",
              "                  ...        \n",
              "3511558   2019-08-19 20:43:02\n",
              "3511559   2019-08-19 20:41:30\n",
              "3511922   2019-08-19 22:18:31\n",
              "3511923   2019-08-19 22:21:28\n",
              "3511924   2019-08-19 22:31:15\n",
              "Name: Start_Time, Length: 592871, dtype: datetime64[ns]"
            ]
          },
          "execution_count": 86,
          "metadata": {},
          "output_type": "execute_result"
        }
      ],
      "source": [
        "monday_start_time = df.Start_Time[df.Start_Time.dt.dayofweek == 0]\n",
        "monday_start_time"
      ]
    },
    {
      "cell_type": "code",
      "execution_count": null,
      "metadata": {
        "colab": {
          "base_uri": "https://localhost:8080/",
          "height": 352
        },
        "id": "TAg5wjBtloLf",
        "outputId": "887403a3-348c-4a93-ca80-e63481d712f2"
      },
      "outputs": [
        {
          "name": "stderr",
          "output_type": "stream",
          "text": [
            "/usr/local/lib/python3.7/dist-packages/seaborn/distributions.py:2619: FutureWarning: `distplot` is a deprecated function and will be removed in a future version. Please adapt your code to use either `displot` (a figure-level function with similar flexibility) or `histplot` (an axes-level function for histograms).\n",
            "  warnings.warn(msg, FutureWarning)\n"
          ]
        },
        {
          "data": {
            "text/plain": [
              "<matplotlib.axes._subplots.AxesSubplot at 0x7f373ac418d0>"
            ]
          },
          "execution_count": 92,
          "metadata": {},
          "output_type": "execute_result"
        },
        {
          "data": {
            "image/png": "[encoded data removed]",
            "text/plain": [
              "<Figure size 432x288 with 1 Axes>"
            ]
          },
          "metadata": {},
          "output_type": "display_data"
        }
      ],
      "source": [
        "df_2019 = df[df.Start_Time.dt.year==2019]\n",
        "sns.distplot(df_2019.Start_Time.dt.month, bins=12, kde=False,norm_hist = True )"
      ]
    },
    {
      "cell_type": "markdown",
      "metadata": {
        "id": "qR2tt3VqnNTn"
      },
      "source": [
        "Can you explain the month_wise trend of accidents?\n",
        "\n",
        "   . Much data is missing for 2016. Maybe even 2017.\n",
        "   \n",
        "   . There seems to be some issue with the Bing data"
      ]
    },
    {
      "cell_type": "code",
      "execution_count": null,
      "metadata": {
        "colab": {
          "base_uri": "https://localhost:8080/"
        },
        "id": "97Xfp5SbOZQx",
        "outputId": "0524108a-7b5d-4012-e94a-aa52eb4e6b92"
      },
      "outputs": [
        {
          "data": {
            "text/plain": [
              "0          MapQuest\n",
              "1          MapQuest\n",
              "2          MapQuest\n",
              "3          MapQuest\n",
              "4          MapQuest\n",
              "             ...   \n",
              "3513612        Bing\n",
              "3513613        Bing\n",
              "3513614        Bing\n",
              "3513615        Bing\n",
              "3513616        Bing\n",
              "Name: Source, Length: 3513617, dtype: object"
            ]
          },
          "execution_count": 94,
          "metadata": {},
          "output_type": "execute_result"
        }
      ],
      "source": [
        "df.Source"
      ]
    },
    {
      "cell_type": "code",
      "execution_count": null,
      "metadata": {
        "colab": {
          "base_uri": "https://localhost:8080/",
          "height": 352
        },
        "id": "b4FRx1Uvoyni",
        "outputId": "44f3e619-fefd-463c-c913-a1777c630689"
      },
      "outputs": [
        {
          "name": "stderr",
          "output_type": "stream",
          "text": [
            "/usr/local/lib/python3.7/dist-packages/seaborn/distributions.py:2619: FutureWarning: `distplot` is a deprecated function and will be removed in a future version. Please adapt your code to use either `displot` (a figure-level function with similar flexibility) or `histplot` (an axes-level function for histograms).\n",
            "  warnings.warn(msg, FutureWarning)\n"
          ]
        },
        {
          "data": {
            "text/plain": [
              "<matplotlib.axes._subplots.AxesSubplot at 0x7f373aac6fd0>"
            ]
          },
          "execution_count": 96,
          "metadata": {},
          "output_type": "execute_result"
        },
        {
          "data": {
            "image/png": "[encoded data removed]",
            "text/plain": [
              "<Figure size 432x288 with 1 Axes>"
            ]
          },
          "metadata": {},
          "output_type": "display_data"
        }
      ],
      "source": [
        "df_2019 = df[df.Start_Time.dt.year==2019]\n",
        "df_2019_Bing =df_2019[df_2019.Source == 'Bing']\n",
        "sns.distplot(df_2019.Start_Time.dt.month, bins=12, kde=False,norm_hist = True )"
      ]
    },
    {
      "cell_type": "code",
      "execution_count": null,
      "metadata": {
        "colab": {
          "base_uri": "https://localhost:8080/",
          "height": 265
        },
        "id": "B-aSn-25mhnG",
        "outputId": "fe2071c7-449b-477f-e6de-d21fe5f74d66"
      },
      "outputs": [
        {
          "data": {
            "text/plain": [
              "<matplotlib.axes._subplots.AxesSubplot at 0x7f373aa7a610>"
            ]
          },
          "execution_count": 98,
          "metadata": {},
          "output_type": "execute_result"
        },
        {
          "data": {
            "image/png": "[encoded data removed]",
            "text/plain": [
              "<Figure size 432x288 with 1 Axes>"
            ]
          },
          "metadata": {},
          "output_type": "display_data"
        }
      ],
      "source": [
        "df.Source.value_counts().plot(kind='pie')"
      ]
    },
    {
      "cell_type": "markdown",
      "metadata": {
        "id": "OqdJn3VQqBKO"
      },
      "source": [
        "- Consider excluding Bling data, seems to have issues."
      ]
    },
    {
      "cell_type": "markdown",
      "metadata": {
        "id": "ZNEUovqGqTvM"
      },
      "source": [
        "## Start Latitute & Longitude"
      ]
    },
    {
      "cell_type": "code",
      "execution_count": null,
      "metadata": {
        "colab": {
          "base_uri": "https://localhost:8080/"
        },
        "id": "gB_LzyUJmhk1",
        "outputId": "22f9340b-ff45-4b63-d108-5ed9edce244f"
      },
      "outputs": [
        {
          "data": {
            "text/plain": [
              "0          39.865147\n",
              "1          39.928059\n",
              "2          39.063148\n",
              "3          39.747753\n",
              "4          39.627781\n",
              "             ...    \n",
              "3513612    34.002480\n",
              "3513613    32.766960\n",
              "3513614    33.775450\n",
              "3513615    33.992460\n",
              "3513616    34.133930\n",
              "Name: Start_Lat, Length: 3513617, dtype: float64"
            ]
          },
          "execution_count": 99,
          "metadata": {},
          "output_type": "execute_result"
        }
      ],
      "source": [
        "df.Start_Lat"
      ]
    },
    {
      "cell_type": "code",
      "execution_count": null,
      "metadata": {
        "colab": {
          "base_uri": "https://localhost:8080/"
        },
        "id": "23EuIwc7mhhC",
        "outputId": "0f5b6dfc-c803-4c1c-c590-4819a49c7993"
      },
      "outputs": [
        {
          "data": {
            "text/plain": [
              "0          -84.058723\n",
              "1          -82.831184\n",
              "2          -84.032608\n",
              "3          -84.205582\n",
              "4          -84.188354\n",
              "              ...    \n",
              "3513612   -117.379360\n",
              "3513613   -117.148060\n",
              "3513614   -117.847790\n",
              "3513615   -118.403020\n",
              "3513616   -117.230920\n",
              "Name: Start_Lng, Length: 3513617, dtype: float64"
            ]
          },
          "execution_count": 101,
          "metadata": {},
          "output_type": "execute_result"
        }
      ],
      "source": [
        "df.Start_Lng"
      ]
    },
    {
      "cell_type": "code",
      "execution_count": null,
      "metadata": {
        "colab": {
          "base_uri": "https://localhost:8080/",
          "height": 299
        },
        "id": "OUP8PIYwqrhT",
        "outputId": "c3710705-b2c3-42ed-9f42-206c3d40d0f8"
      },
      "outputs": [
        {
          "data": {
            "text/plain": [
              "<matplotlib.axes._subplots.AxesSubplot at 0x7f371fd32890>"
            ]
          },
          "execution_count": 104,
          "metadata": {},
          "output_type": "execute_result"
        },
        {
          "data": {
            "image/png": "[encoded data removed]",
            "text/plain": [
              "<Figure size 432x288 with 1 Axes>"
            ]
          },
          "metadata": {},
          "output_type": "display_data"
        }
      ],
      "source": [
        "sample_df = df.sample(int(0.1 * len(df)))\n",
        "sns.scatterplot(x=sample_df.Start_Lng, y=sample_df.Start_Lat,size=0.001)"
      ]
    },
    {
      "cell_type": "markdown",
      "metadata": {
        "id": "kexkSeMg6LpT"
      },
      "source": [
        "## Percentage of missing values per column"
      ]
    },
    {
      "cell_type": "code",
      "execution_count": null,
      "metadata": {
        "id": "YwmkwmiYqrd8"
      },
      "outputs": [],
      "source": [
        "import folium"
      ]
    },
    {
      "cell_type": "code",
      "execution_count": null,
      "metadata": {
        "colab": {
          "base_uri": "https://localhost:8080/"
        },
        "id": "_XM8wjcLtMDw",
        "outputId": "6049c5f7-1923-418f-adf2-6c3ea1851034"
      },
      "outputs": [
        {
          "data": {
            "text/plain": [
              "(39.865147, -84.058723)"
            ]
          },
          "execution_count": 107,
          "metadata": {},
          "output_type": "execute_result"
        }
      ],
      "source": [
        "lat,lon = df.Start_Lat[0],df.Start_Lng[0]\n",
        "lat,lon"
      ]
    },
    {
      "cell_type": "code",
      "execution_count": null,
      "metadata": {
        "colab": {
          "base_uri": "https://localhost:8080/"
        },
        "id": "qxWSEkH5uqWm",
        "outputId": "44da2f9c-4ba8-4683-a5eb-6b9e4fddbd0e"
      },
      "outputs": [
        {
          "name": "stdout",
          "output_type": "stream",
          "text": [
            "1037257    31.828560\n",
            "461833     34.365108\n",
            "670742     46.802860\n",
            "1204925    30.440872\n",
            "1767826    33.876289\n",
            "             ...    \n",
            "1320607    44.062717\n",
            "2973682    44.824130\n",
            "3033635    41.045150\n",
            "570725     37.045319\n",
            "1970323    37.317345\n",
            "Name: Start_Lat, Length: 100, dtype: float64\n",
            "1037257   -106.362892\n",
            "461833    -118.503716\n",
            "670742    -123.006996\n",
            "1204925    -97.668190\n",
            "1767826   -118.102577\n",
            "              ...    \n",
            "1320607   -123.049248\n",
            "2973682   -123.017550\n",
            "3033635   -111.309000\n",
            "570725    -122.027168\n",
            "1970323   -121.940819\n",
            "Name: Start_Lng, Length: 100, dtype: float64\n"
          ]
        }
      ],
      "source": [
        "for x in df[['Start_Lat','Start_Lng']].sample(100).iteritems():\n",
        "    print(x[1])"
      ]
    },
    {
      "cell_type": "code",
      "execution_count": null,
      "metadata": {
        "id": "5GsmV2UrxTu6"
      },
      "outputs": [],
      "source": [
        "from folium.plugins import HeatMap"
      ]
    },
    {
      "cell_type": "code",
      "execution_count": null,
      "metadata": {
        "id": "T1iDV3lyxl47"
      },
      "outputs": [],
      "source": [
        "sample_df = df.sample(int(0.0001 * len(df)))\n",
        "lat_lon_pairs = zip(list(sample_df.Start_Lat), list(sample_df.Start_Lng))"
      ]
    },
    {
      "cell_type": "code",
      "execution_count": null,
      "metadata": {
        "colab": {
          "base_uri": "https://localhost:8080/",
          "height": 657
        },
        "id": "0RSkQ08htf4u",
        "outputId": "8e5bb310-cb79-4e56-ef8f-b6e9a5bc8fe0"
      },
      "outputs": [
        {
          "data": {
            "text/html": [
              "<div style=\"width:100%;\"><div style=\"position:relative;width:100%;height:0;padding-bottom:60%;\"><span style=\"color:#565656\">Make this Notebook Trusted to load map: File -> Trust Notebook</span><iframe srcdoc=\"&lt;!DOCTYPE html&gt;\n",
              "&lt;head&gt;    \n",
              "    &lt;meta http-equiv=&quot;content-type&quot; content=&quot;text/html; charset=UTF-8&quot; /&gt;\n",
              "    \n",
              "        &lt;script&gt;\n",
              "            L_NO_TOUCH = false;\n",
              "            L_DISABLE_3D = false;\n",
              "        &lt;/script&gt;\n",
              "    \n",
              "    &lt;style&gt;html, body {width: 100%;height: 100%;margin: 0;padding: 0;}&lt;/style&gt;\n",
              "    &lt;style&gt;#map {position:absolute;top:0;bottom:0;right:0;left:0;}&lt;/style&gt;\n",
              "    &lt;script src=&quot;https://cdn.jsdelivr.net/npm/leaflet@1.6.0/dist/leaflet.js&quot;&gt;&lt;/script&gt;\n",
              "    &lt;script src=&quot;https://code.jquery.com/jquery-1.12.4.min.js&quot;&gt;&lt;/script&gt;\n",
              "    &lt;script src=&quot;https://maxcdn.bootstrapcdn.com/bootstrap/3.2.0/js/bootstrap.min.js&quot;&gt;&lt;/script&gt;\n",
              "    &lt;script src=&quot;https://cdnjs.cloudflare.com/ajax/libs/Leaflet.awesome-markers/2.0.2/leaflet.awesome-markers.js&quot;&gt;&lt;/script&gt;\n",
              "    &lt;link rel=&quot;stylesheet&quot; href=&quot;https://cdn.jsdelivr.net/npm/leaflet@1.6.0/dist/leaflet.css&quot;/&gt;\n",
              "    &lt;link rel=&quot;stylesheet&quot; href=&quot;https://maxcdn.bootstrapcdn.com/bootstrap/3.2.0/css/bootstrap.min.css&quot;/&gt;\n",
              "    &lt;link rel=&quot;stylesheet&quot; href=&quot;https://maxcdn.bootstrapcdn.com/bootstrap/3.2.0/css/bootstrap-theme.min.css&quot;/&gt;\n",
              "    &lt;link rel=&quot;stylesheet&quot; href=&quot;https://maxcdn.bootstrapcdn.com/font-awesome/4.6.3/css/font-awesome.min.css&quot;/&gt;\n",
              "    &lt;link rel=&quot;stylesheet&quot; href=&quot;https://cdnjs.cloudflare.com/ajax/libs/Leaflet.awesome-markers/2.0.2/leaflet.awesome-markers.css&quot;/&gt;\n",
              "    &lt;link rel=&quot;stylesheet&quot; href=&quot;https://cdn.jsdelivr.net/gh/python-visualization/folium/folium/templates/leaflet.awesome.rotate.min.css&quot;/&gt;\n",
              "    \n",
              "            &lt;meta name=&quot;viewport&quot; content=&quot;width=device-width,\n",
              "                initial-scale=1.0, maximum-scale=1.0, user-scalable=no&quot; /&gt;\n",
              "            &lt;style&gt;\n",
              "                #map_6b224468d68c16c5a00d2e602613a92c {\n",
              "                    position: relative;\n",
              "                    width: 100.0%;\n",
              "                    height: 100.0%;\n",
              "                    left: 0.0%;\n",
              "                    top: 0.0%;\n",
              "                }\n",
              "            &lt;/style&gt;\n",
              "        \n",
              "    &lt;script src=&quot;https://cdn.jsdelivr.net/gh/python-visualization/folium@master/folium/templates/leaflet_heat.min.js&quot;&gt;&lt;/script&gt;\n",
              "&lt;/head&gt;\n",
              "&lt;body&gt;    \n",
              "    \n",
              "            &lt;div class=&quot;folium-map&quot; id=&quot;map_6b224468d68c16c5a00d2e602613a92c&quot; &gt;&lt;/div&gt;\n",
              "        \n",
              "&lt;/body&gt;\n",
              "&lt;script&gt;    \n",
              "    \n",
              "            var map_6b224468d68c16c5a00d2e602613a92c = L.map(\n",
              "                &quot;map_6b224468d68c16c5a00d2e602613a92c&quot;,\n",
              "                {\n",
              "                    center: [0, 0],\n",
              "                    crs: L.CRS.EPSG3857,\n",
              "                    zoom: 1,\n",
              "                    zoomControl: true,\n",
              "                    preferCanvas: false,\n",
              "                }\n",
              "            );\n",
              "\n",
              "            \n",
              "\n",
              "        \n",
              "    \n",
              "            var tile_layer_d522680c6881974806215c8ba70ac54d = L.tileLayer(\n",
              "                &quot;https://{s}.tile.openstreetmap.org/{z}/{x}/{y}.png&quot;,\n",
              "                {&quot;attribution&quot;: &quot;Data by \\u0026copy; \\u003ca href=\\&quot;http://openstreetmap.org\\&quot;\\u003eOpenStreetMap\\u003c/a\\u003e, under \\u003ca href=\\&quot;http://www.openstreetmap.org/copyright\\&quot;\\u003eODbL\\u003c/a\\u003e.&quot;, &quot;detectRetina&quot;: false, &quot;maxNativeZoom&quot;: 18, &quot;maxZoom&quot;: 18, &quot;minZoom&quot;: 0, &quot;noWrap&quot;: false, &quot;opacity&quot;: 1, &quot;subdomains&quot;: &quot;abc&quot;, &quot;tms&quot;: false}\n",
              "            ).addTo(map_6b224468d68c16c5a00d2e602613a92c);\n",
              "        \n",
              "    \n",
              "            var heat_map_2f2400d5cec22d2a27ee0370f0f62413 = L.heatLayer(\n",
              "                [[39.63965, -104.91083], [35.261391, -80.846191], [33.97189, -117.84641], [34.135624, -81.215378], [31.756069, -106.274109], [33.984653, -84.542091], [40.648693, -74.287148], [38.013096, -122.174973], [33.781006, -117.489655], [40.724171, -73.937622], [36.147972, -86.777496], [40.98456, -81.48975], [36.309977, -86.826486], [43.94024, -91.75899], [37.746784, -122.404617], [41.824402, -87.704437], [26.194651, -80.295235], [28.240881, -82.674149], [33.936508, -84.159424], [37.356358, -77.40432], [38.694424, -121.363625], [33.820115, -118.207013], [33.958099, -118.280556], [40.85017, -73.944738], [30.444899, -91.186058], [32.70969, -96.62152], [40.142151, -82.97113], [40.836227, -73.8246], [39.89217, -83.039169], [40.699623, -111.902473], [39.622787, -84.229858], [33.891068, -118.36132], [34.585529, -82.474991], [38.605717, -121.334027], [33.462219, -112.047775], [33.87704, -118.14268], [35.332363, -80.810059], [45.565964, -117.912054], [30.47191, -91.07798], [33.912231, -118.073418], [38.86491, -77.068138], [39.032383, -84.535217], [35.374896, -118.967569], [34.236884, -117.425075], [33.101803, -96.677353], [37.62066, -77.5463], [27.324457, -82.497482], [35.812969, -78.616753], [41.986229, -87.862267], [33.90556, -84.35831], [34.309055, -117.471802], [40.045414, -76.311836], [41.893009, -71.377457], [37.317463, -121.937958], [30.43165, -86.664383], [31.311949, -85.503426], [30.004734, -90.026337], [38.3401, -81.68494], [47.620098, -122.348495], [40.526779, -111.895668], [44.907143, -119.707947], [42.801237, -73.940988], [36.08683, -86.695938], [40.009392, -76.266296], [34.39275, -118.472176], [25.93886, -80.35141], [32.914158, -96.735435], [40.643581, -73.875961], [42.9944, -85.717407], [34.262131, -82.733063], [42.025276, -88.237495], [33.292042, -111.94503], [30.471621, -91.089096], [47.6311, -122.187721], [45.56599, -94.20598], [30.28536, -97.812302], [36.129309, -86.900091], [40.682468, -89.586021], [35.796806, -78.505875], [34.645722, -118.154686], [35.827862, -78.634399], [39.67929, -105.91344], [38.641438, -121.461403], [41.975304, -87.747437], [36.010821, -96.114711], [27.95138, -82.76252], [39.600159, -104.714973], [38.365215, -122.781235], [32.879997, -96.770279], [33.902116, -118.265262], [40.23772, -76.13052], [32.840172, -97.312782], [30.604818, -96.339066], [34.120461, -117.736107], [37.119961, -121.976044], [34.362554, -119.061483], [27.92362, -82.33267], [40.85967, -73.9751], [38.249687, -122.07], [28.533802, -82.479568], [33.797096, -84.368988], [41.765423, -72.655174], [43.167942, -77.57515], [32.980659, -96.293358], [45.069134, -93.278961], [45.434459, -122.74432], [45.4974, -122.79094], [35.29908, -80.980624], [25.860451, -80.329903], [33.764542, -84.492867], [41.25972, -95.956573], [44.93465, -92.28251], [43.56926, -89.77113], [40.77537, -74.03911], [48.074585, -122.143097], [28.017807, -82.737862], [33.391674, -81.684418], [38.933067, -104.775314], [47.36236, -122.29566], [43.03112, -88.05458], [39.746197, -86.00872], [25.963093, -80.185677], [42.244059, -122.771648], [35.575895, -80.709067], [33.20119, -117.12825], [27.7772, -82.69989], [39.801861, -104.984962], [35.07502, -89.99791], [29.814119, -95.37574], [41.66514, -87.74773], [38.958393, -104.725067], [41.27264, -72.970589], [29.617428, -95.465004], [42.242264, -83.327866], [35.071686, -90.023247], [25.964972, -80.165802], [42.446602, -83.09491], [43.04599, -89.306969], [36.045097, -96.042809], [39.840382, -86.058296], [30.398062, -91.056335], [45.142429, -93.185509], [34.87273, -82.329269], [40.41751, -111.77344], [39.683331, -79.074059], [40.118088, -85.568962], [37.701164, -121.849068], [33.463985, -116.914482], [34.054077, -118.237862], [43.133739, -77.630898], [41.84576, -71.410995], [35.558105, -97.638474], [35.485748, -78.363037], [37.399055, -122.027824], [43.146049, -77.605476], [30.641211, -91.153481], [37.146095, -121.985832], [25.787006, -80.200584], [32.743725, -96.815483], [43.94867, -84.0146], [39.494236, -121.688632], [35.290852, -80.912956], [38.042881, -84.453644], [33.854336, -84.382645], [33.753014, -84.495865], [40.76301, -73.69278], [33.288456, -111.7556], [47.158012, -122.357445], [33.76459, -81.38053], [31.825939, -106.431816], [33.67477, -84.327972], [34.823601, -82.291382], [33.636818, -84.398026], [32.910049, -80.958229], [40.785793, -77.8545], [37.91406, -122.06648], [43.02886, -77.96962], [38.930432, -109.81579], [29.497555, -82.295074], [35.241001, -80.796677], [37.96666, -122.305391], [43.59965, -93.35115], [34.373589, -118.562042], [35.166264, -82.470619], [41.306686, -96.062737], [28.542789, -81.186172], [38.562122, -121.486876], [35.309109, -80.71833], [38.977386, -123.099068], [36.315849, -82.370461], [43.044067, -76.142532], [47.575668, -122.329086], [33.990238, -80.019424], [34.029203, -118.012453], [30.458414, -81.640813], [33.904877, -79.046661], [34.020622, -118.158363], [33.968479, -117.848892], [38.558605, -121.473465], [30.456783, -97.657532], [30.45866, -87.239243], [34.217533, -119.050514], [42.527599, -82.909058], [45.49724, -122.533167], [32.569811, -97.318796], [33.971454, -117.548669], [30.25741, -97.799797], [32.337471, -111.03006], [41.188175, -96.161758], [33.12772, -117.11151], [34.481658, -82.663216], [37.092236, -121.601456], [33.860287, -80.113144], [33.916431, -118.309029], [42.565472, -70.949013], [34.067448, -117.981911], [35.517929, -97.368584], [41.88556, -91.67054], [34.86079, -82.404549], [32.405624, -90.145966], [29.68686, -95.37874], [32.84392, -96.63466], [30.32152, -81.695372], [33.509441, -112.112457], [34.01796, -117.52767], [29.428169, -98.526932], [39.79834, -105.066032], [39.781483, -86.08889], [34.31866, -77.87719], [32.83895, -96.63328], [47.640747, -122.346321], [39.663803, -86.187035], [47.265102, -122.547234], [27.04096, -82.400002], [33.850241, -117.836481], [44.61152, -123.47116], [29.33277, -98.4108], [38.809551, -123.540192], [25.96307, -80.162071], [38.917324, -84.629066], [36.093029, -86.676193], [35.731251, -78.627541], [27.337835, -82.463852], [39.28788, -76.533447], [35.216572, -80.868874], [35.229187, -80.866837], [30.48778, -91.132828], [33.82152, -78.94286], [25.782862, -80.27137], [38.203873, -121.226105], [37.692917, -120.84829], [41.5741, -87.48505], [38.984093, -77.149323], [39.322426, -84.424438], [29.59771, -95.386391], [29.7227, -95.50072], [47.284355, -122.208046], [37.583101, -122.050132], [39.779385, -104.979301], [35.482437, -97.525536], [30.203274, -97.753922], [30.427059, -91.137039], [34.49678, -81.844101], [40.07867, -74.74976], [34.063839, -117.811951], [40.07452, -74.15648], [35.96431, -119.299622], [30.375771, -97.529152], [35.256454, -120.674965], [33.743271, -84.379326], [34.06537, -117.99672], [40.05298, -74.17935], [40.000587, -104.9813], [32.864246, -96.662331], [32.801051, -96.822692], [38.706585, -77.22316], [47.733891, -122.307343], [34.173649, -118.553482], [33.237495, -87.569138], [35.17206, -111.65248], [33.730755, -117.986786], [33.88631, -84.26677], [41.70068, -71.47456], [33.886238, -117.517868], [34.154457, -118.377716], [30.43284, -91.057388], [33.78785, -118.20762], [32.3231, -111.0123], [42.363609, -87.929871], [35.289909, -80.785011], [40.75705, -74.20558], [45.84297, -123.52164], [34.148746, -81.328621], [39.905785, -75.194023], [32.792442, -96.685028], [33.426571, -117.14994], [40.929455, -73.848335], [42.980515, -85.7005], [35.486019, -97.601112], [32.866356, -97.101768], [32.84015, -97.17856], [27.996614, -82.568863], [37.330009, -121.96769], [38.93815, -94.39794], [29.431622, -98.405472], [37.717106, -121.705017], [40.768082, -73.904549], [32.461517, -93.746048], [32.133949, -110.979675], [36.075439, -95.868553], [33.777596, -81.238792], [37.53496, -122.0756], [46.21548, -123.86201], [35.246918, -80.781158], [33.93664, -117.6646], [33.736462, -78.947533], [35.825504, -78.621483], [33.857555, -117.982399], [29.756569, -95.351273], [33.884037, -117.26873], [33.741806, -117.837532], [38.630356, -90.342567], [33.216969, -111.685883], [36.58576, -121.91861], [46.34053, -94.66326], [40.786732, -73.823853], [34.168293, -117.2929], [26.165884, -80.16024], [37.58716, -95.4778], [39.770782, -86.143333], [38.622131, -90.124054], [34.019039, -117.739983], [41.786621, -71.433624], [29.689341, -95.562752], [33.06265, -117.068749], [29.78507, -95.64502], [44.923279, -93.401566], [34.07727, -118.28164], [35.558048, -97.63858], [30.265625, -97.782661], [33.979809, -117.370064], [39.93409, -74.94965], [39.764576, -84.187706], [30.220776, -81.571159], [25.81314, -80.32155], [41.81845, -71.39617], [35.875755, -78.575974], [37.290485, -121.871147], [30.137983, -81.773979], [40.103283, -76.087044], [36.153271, -95.98822]],\n",
              "                {&quot;blur&quot;: 15, &quot;maxZoom&quot;: 18, &quot;minOpacity&quot;: 0.5, &quot;radius&quot;: 25}\n",
              "            ).addTo(map_6b224468d68c16c5a00d2e602613a92c);\n",
              "        \n",
              "&lt;/script&gt;\" style=\"position:absolute;width:100%;height:100%;left:0;top:0;border:none !important;\" allowfullscreen webkitallowfullscreen mozallowfullscreen></iframe></div></div>"
            ],
            "text/plain": [
              "<folium.folium.Map at 0x7f37225db3d0>"
            ]
          },
          "execution_count": 127,
          "metadata": {},
          "output_type": "execute_result"
        }
      ],
      "source": [
        "map = folium.Map()\n",
        "HeatMap(lat_lon_pairs).add_to(map)\n",
        "map\n"
      ]
    },
    {
      "cell_type": "code",
      "execution_count": null,
      "metadata": {
        "colab": {
          "base_uri": "https://localhost:8080/",
          "height": 657
        },
        "id": "CsntrXShqrcA",
        "outputId": "8c5a3aec-906e-4925-9f06-d0ce5bfee503"
      },
      "outputs": [
        {
          "data": {
            "text/html": [
              "<div style=\"width:100%;\"><div style=\"position:relative;width:100%;height:0;padding-bottom:60%;\"><span style=\"color:#565656\">Make this Notebook Trusted to load map: File -> Trust Notebook</span><iframe srcdoc=\"&lt;!DOCTYPE html&gt;\n",
              "&lt;head&gt;    \n",
              "    &lt;meta http-equiv=&quot;content-type&quot; content=&quot;text/html; charset=UTF-8&quot; /&gt;\n",
              "    \n",
              "        &lt;script&gt;\n",
              "            L_NO_TOUCH = false;\n",
              "            L_DISABLE_3D = false;\n",
              "        &lt;/script&gt;\n",
              "    \n",
              "    &lt;style&gt;html, body {width: 100%;height: 100%;margin: 0;padding: 0;}&lt;/style&gt;\n",
              "    &lt;style&gt;#map {position:absolute;top:0;bottom:0;right:0;left:0;}&lt;/style&gt;\n",
              "    &lt;script src=&quot;https://cdn.jsdelivr.net/npm/leaflet@1.6.0/dist/leaflet.js&quot;&gt;&lt;/script&gt;\n",
              "    &lt;script src=&quot;https://code.jquery.com/jquery-1.12.4.min.js&quot;&gt;&lt;/script&gt;\n",
              "    &lt;script src=&quot;https://maxcdn.bootstrapcdn.com/bootstrap/3.2.0/js/bootstrap.min.js&quot;&gt;&lt;/script&gt;\n",
              "    &lt;script src=&quot;https://cdnjs.cloudflare.com/ajax/libs/Leaflet.awesome-markers/2.0.2/leaflet.awesome-markers.js&quot;&gt;&lt;/script&gt;\n",
              "    &lt;link rel=&quot;stylesheet&quot; href=&quot;https://cdn.jsdelivr.net/npm/leaflet@1.6.0/dist/leaflet.css&quot;/&gt;\n",
              "    &lt;link rel=&quot;stylesheet&quot; href=&quot;https://maxcdn.bootstrapcdn.com/bootstrap/3.2.0/css/bootstrap.min.css&quot;/&gt;\n",
              "    &lt;link rel=&quot;stylesheet&quot; href=&quot;https://maxcdn.bootstrapcdn.com/bootstrap/3.2.0/css/bootstrap-theme.min.css&quot;/&gt;\n",
              "    &lt;link rel=&quot;stylesheet&quot; href=&quot;https://maxcdn.bootstrapcdn.com/font-awesome/4.6.3/css/font-awesome.min.css&quot;/&gt;\n",
              "    &lt;link rel=&quot;stylesheet&quot; href=&quot;https://cdnjs.cloudflare.com/ajax/libs/Leaflet.awesome-markers/2.0.2/leaflet.awesome-markers.css&quot;/&gt;\n",
              "    &lt;link rel=&quot;stylesheet&quot; href=&quot;https://cdn.jsdelivr.net/gh/python-visualization/folium/folium/templates/leaflet.awesome.rotate.min.css&quot;/&gt;\n",
              "    \n",
              "            &lt;meta name=&quot;viewport&quot; content=&quot;width=device-width,\n",
              "                initial-scale=1.0, maximum-scale=1.0, user-scalable=no&quot; /&gt;\n",
              "            &lt;style&gt;\n",
              "                #map_188170cd1c693dabf6ab1801bf270e77 {\n",
              "                    position: relative;\n",
              "                    width: 100.0%;\n",
              "                    height: 100.0%;\n",
              "                    left: 0.0%;\n",
              "                    top: 0.0%;\n",
              "                }\n",
              "            &lt;/style&gt;\n",
              "        \n",
              "&lt;/head&gt;\n",
              "&lt;body&gt;    \n",
              "    \n",
              "            &lt;div class=&quot;folium-map&quot; id=&quot;map_188170cd1c693dabf6ab1801bf270e77&quot; &gt;&lt;/div&gt;\n",
              "        \n",
              "&lt;/body&gt;\n",
              "&lt;script&gt;    \n",
              "    \n",
              "            var map_188170cd1c693dabf6ab1801bf270e77 = L.map(\n",
              "                &quot;map_188170cd1c693dabf6ab1801bf270e77&quot;,\n",
              "                {\n",
              "                    center: [38.9, -77.05],\n",
              "                    crs: L.CRS.EPSG3857,\n",
              "                    zoom: 12,\n",
              "                    zoomControl: true,\n",
              "                    preferCanvas: false,\n",
              "                }\n",
              "            );\n",
              "\n",
              "            \n",
              "\n",
              "        \n",
              "    \n",
              "            var tile_layer_f52b59055224171248947320aa163a37 = L.tileLayer(\n",
              "                &quot;https://{s}.tile.openstreetmap.org/{z}/{x}/{y}.png&quot;,\n",
              "                {&quot;attribution&quot;: &quot;Data by \\u0026copy; \\u003ca href=\\&quot;http://openstreetmap.org\\&quot;\\u003eOpenStreetMap\\u003c/a\\u003e, under \\u003ca href=\\&quot;http://www.openstreetmap.org/copyright\\&quot;\\u003eODbL\\u003c/a\\u003e.&quot;, &quot;detectRetina&quot;: false, &quot;maxNativeZoom&quot;: 18, &quot;maxZoom&quot;: 18, &quot;minZoom&quot;: 0, &quot;noWrap&quot;: false, &quot;opacity&quot;: 1, &quot;subdomains&quot;: &quot;abc&quot;, &quot;tms&quot;: false}\n",
              "            ).addTo(map_188170cd1c693dabf6ab1801bf270e77);\n",
              "        \n",
              "&lt;/script&gt;\" style=\"position:absolute;width:100%;height:100%;left:0;top:0;border:none !important;\" allowfullscreen webkitallowfullscreen mozallowfullscreen></iframe></div></div>"
            ],
            "text/plain": [
              "<folium.folium.Map at 0x7f3720ce4dd0>"
            ]
          },
          "execution_count": 106,
          "metadata": {},
          "output_type": "execute_result"
        }
      ],
      "source": [
        "folium.Map(location=[38.9,-77.05],zoom_start= 12)"
      ]
    },
    {
      "cell_type": "code",
      "execution_count": null,
      "metadata": {
        "id": "4sFb_cHuqrW5"
      },
      "outputs": [],
      "source": []
    },
    {
      "cell_type": "code",
      "execution_count": null,
      "metadata": {
        "id": "33zoWTX6qrUS"
      },
      "outputs": [],
      "source": []
    },
    {
      "cell_type": "code",
      "execution_count": null,
      "metadata": {
        "id": "j56qUBV3qrS4"
      },
      "outputs": [],
      "source": []
    },
    {
      "cell_type": "code",
      "execution_count": null,
      "metadata": {
        "id": "gRatD6nIqrQu"
      },
      "outputs": [],
      "source": []
    },
    {
      "cell_type": "code",
      "execution_count": null,
      "metadata": {
        "id": "IT9tFd_Umhc5"
      },
      "outputs": [],
      "source": []
    },
    {
      "cell_type": "code",
      "execution_count": null,
      "metadata": {
        "colab": {
          "base_uri": "https://localhost:8080/"
        },
        "id": "3Xb90T0joHmb",
        "outputId": "5b01da5e-7131-48ec-ad41-eea944c847b0"
      },
      "outputs": [
        {
          "data": {
            "text/plain": [
              "ID                             0\n",
              "Source                         0\n",
              "TMC                      1034799\n",
              "Severity                       0\n",
              "Start_Time                     0\n",
              "End_Time                       0\n",
              "Start_Lat                      0\n",
              "Start_Lng                      0\n",
              "End_Lat                  2478818\n",
              "End_Lng                  2478818\n",
              "Distance(mi)                   0\n",
              "Description                    1\n",
              "Number                   2262864\n",
              "Street                         0\n",
              "Side                           0\n",
              "City                         112\n",
              "County                         0\n",
              "State                          0\n",
              "Zipcode                     1069\n",
              "Country                        0\n",
              "Timezone                    3880\n",
              "Airport_Code                6758\n",
              "Weather_Timestamp          43323\n",
              "Temperature(F)             65732\n",
              "Wind_Chill(F)            1868249\n",
              "Humidity(%)                69687\n",
              "Pressure(in)               55882\n",
              "Visibility(mi)             75856\n",
              "Wind_Direction             58874\n",
              "Wind_Speed(mph)           454609\n",
              "Precipitation(in)        2025874\n",
              "Weather_Condition          76138\n",
              "Amenity                        0\n",
              "Bump                           0\n",
              "Crossing                       0\n",
              "Give_Way                       0\n",
              "Junction                       0\n",
              "No_Exit                        0\n",
              "Railway                        0\n",
              "Roundabout                     0\n",
              "Station                        0\n",
              "Stop                           0\n",
              "Traffic_Calming                0\n",
              "Traffic_Signal                 0\n",
              "Turning_Loop                   0\n",
              "Sunrise_Sunset               115\n",
              "Civil_Twilight               115\n",
              "Nautical_Twilight            115\n",
              "Astronomical_Twilight        115\n",
              "dtype: int64"
            ]
          },
          "execution_count": 26,
          "metadata": {},
          "output_type": "execute_result"
        }
      ],
      "source": [
        "df.isna().sum()"
      ]
    },
    {
      "cell_type": "code",
      "execution_count": null,
      "metadata": {
        "colab": {
          "base_uri": "https://localhost:8080/"
        },
        "id": "xzAk8kZloHkL",
        "outputId": "41868537-c686-432c-bce9-847cacde447f"
      },
      "outputs": [
        {
          "data": {
            "text/plain": [
              "ID                             0\n",
              "Crossing                       0\n",
              "Give_Way                       0\n",
              "Junction                       0\n",
              "No_Exit                        0\n",
              "Railway                        0\n",
              "Roundabout                     0\n",
              "Station                        0\n",
              "Stop                           0\n",
              "Country                        0\n",
              "Traffic_Calming                0\n",
              "State                          0\n",
              "County                         0\n",
              "Bump                           0\n",
              "Side                           0\n",
              "Traffic_Signal                 0\n",
              "Distance(mi)                   0\n",
              "Turning_Loop                   0\n",
              "Start_Lng                      0\n",
              "Start_Lat                      0\n",
              "End_Time                       0\n",
              "Start_Time                     0\n",
              "Severity                       0\n",
              "Source                         0\n",
              "Street                         0\n",
              "Amenity                        0\n",
              "Description                    1\n",
              "City                         112\n",
              "Sunrise_Sunset               115\n",
              "Civil_Twilight               115\n",
              "Astronomical_Twilight        115\n",
              "Nautical_Twilight            115\n",
              "Zipcode                     1069\n",
              "Timezone                    3880\n",
              "Airport_Code                6758\n",
              "Weather_Timestamp          43323\n",
              "Pressure(in)               55882\n",
              "Wind_Direction             58874\n",
              "Temperature(F)             65732\n",
              "Humidity(%)                69687\n",
              "Visibility(mi)             75856\n",
              "Weather_Condition          76138\n",
              "Wind_Speed(mph)           454609\n",
              "TMC                      1034799\n",
              "Wind_Chill(F)            1868249\n",
              "Precipitation(in)        2025874\n",
              "Number                   2262864\n",
              "End_Lng                  2478818\n",
              "End_Lat                  2478818\n",
              "dtype: int64"
            ]
          },
          "execution_count": 28,
          "metadata": {},
          "output_type": "execute_result"
        }
      ],
      "source": [
        "df.isna().sum().sort_values()"
      ]
    },
    {
      "cell_type": "code",
      "execution_count": null,
      "metadata": {
        "colab": {
          "base_uri": "https://localhost:8080/"
        },
        "id": "9xwMIpEboHif",
        "outputId": "3edd0360-fe62-425d-d27e-f7f272da43bc"
      },
      "outputs": [
        {
          "data": {
            "text/plain": [
              "End_Lng                  2478818\n",
              "End_Lat                  2478818\n",
              "Number                   2262864\n",
              "Precipitation(in)        2025874\n",
              "Wind_Chill(F)            1868249\n",
              "TMC                      1034799\n",
              "Wind_Speed(mph)           454609\n",
              "Weather_Condition          76138\n",
              "Visibility(mi)             75856\n",
              "Humidity(%)                69687\n",
              "Temperature(F)             65732\n",
              "Wind_Direction             58874\n",
              "Pressure(in)               55882\n",
              "Weather_Timestamp          43323\n",
              "Airport_Code                6758\n",
              "Timezone                    3880\n",
              "Zipcode                     1069\n",
              "Sunrise_Sunset               115\n",
              "Civil_Twilight               115\n",
              "Nautical_Twilight            115\n",
              "Astronomical_Twilight        115\n",
              "City                         112\n",
              "Description                    1\n",
              "Country                        0\n",
              "Junction                       0\n",
              "Severity                       0\n",
              "Start_Time                     0\n",
              "End_Time                       0\n",
              "Turning_Loop                   0\n",
              "Traffic_Signal                 0\n",
              "Traffic_Calming                0\n",
              "Stop                           0\n",
              "Station                        0\n",
              "Roundabout                     0\n",
              "Railway                        0\n",
              "No_Exit                        0\n",
              "Give_Way                       0\n",
              "State                          0\n",
              "Crossing                       0\n",
              "Bump                           0\n",
              "Amenity                        0\n",
              "Start_Lat                      0\n",
              "Start_Lng                      0\n",
              "Distance(mi)                   0\n",
              "Street                         0\n",
              "Side                           0\n",
              "Source                         0\n",
              "County                         0\n",
              "ID                             0\n",
              "dtype: int64"
            ]
          },
          "execution_count": 29,
          "metadata": {},
          "output_type": "execute_result"
        }
      ],
      "source": [
        "df.isna().sum().sort_values(ascending=False)"
      ]
    },
    {
      "cell_type": "code",
      "execution_count": null,
      "metadata": {
        "colab": {
          "base_uri": "https://localhost:8080/"
        },
        "id": "JHxR-d3aoHZs",
        "outputId": "8559c1f1-2a32-4985-ac19-0ce115b45d5f"
      },
      "outputs": [
        {
          "data": {
            "text/plain": [
              "End_Lng                  7.054890e-01\n",
              "End_Lat                  7.054890e-01\n",
              "Number                   6.440269e-01\n",
              "Precipitation(in)        5.765779e-01\n",
              "Wind_Chill(F)            5.317167e-01\n",
              "TMC                      2.945110e-01\n",
              "Wind_Speed(mph)          1.293849e-01\n",
              "Weather_Condition        2.166941e-02\n",
              "Visibility(mi)           2.158915e-02\n",
              "Humidity(%)              1.983341e-02\n",
              "Temperature(F)           1.870779e-02\n",
              "Wind_Direction           1.675595e-02\n",
              "Pressure(in)             1.590441e-02\n",
              "Weather_Timestamp        1.233003e-02\n",
              "Airport_Code             1.923374e-03\n",
              "Timezone                 1.104275e-03\n",
              "Zipcode                  3.042449e-04\n",
              "Sunrise_Sunset           3.272981e-05\n",
              "Civil_Twilight           3.272981e-05\n",
              "Nautical_Twilight        3.272981e-05\n",
              "Astronomical_Twilight    3.272981e-05\n",
              "City                     3.187598e-05\n",
              "Description              2.846070e-07\n",
              "dtype: float64"
            ]
          },
          "execution_count": 37,
          "metadata": {},
          "output_type": "execute_result"
        }
      ],
      "source": [
        "missing_percentages[missing_percentages != 0]"
      ]
    },
    {
      "cell_type": "code",
      "execution_count": null,
      "metadata": {
        "colab": {
          "base_uri": "https://localhost:8080/"
        },
        "id": "isj9jgm9oHf0",
        "outputId": "2bee26d6-87e6-4211-95a8-8f6d3bee9985"
      },
      "outputs": [
        {
          "data": {
            "text/plain": [
              "End_Lng                  7.054890e-01\n",
              "End_Lat                  7.054890e-01\n",
              "Number                   6.440269e-01\n",
              "Precipitation(in)        5.765779e-01\n",
              "Wind_Chill(F)            5.317167e-01\n",
              "TMC                      2.945110e-01\n",
              "Wind_Speed(mph)          1.293849e-01\n",
              "Weather_Condition        2.166941e-02\n",
              "Visibility(mi)           2.158915e-02\n",
              "Humidity(%)              1.983341e-02\n",
              "Temperature(F)           1.870779e-02\n",
              "Wind_Direction           1.675595e-02\n",
              "Pressure(in)             1.590441e-02\n",
              "Weather_Timestamp        1.233003e-02\n",
              "Airport_Code             1.923374e-03\n",
              "Timezone                 1.104275e-03\n",
              "Zipcode                  3.042449e-04\n",
              "Sunrise_Sunset           3.272981e-05\n",
              "Civil_Twilight           3.272981e-05\n",
              "Nautical_Twilight        3.272981e-05\n",
              "Astronomical_Twilight    3.272981e-05\n",
              "City                     3.187598e-05\n",
              "Description              2.846070e-07\n",
              "Country                  0.000000e+00\n",
              "Junction                 0.000000e+00\n",
              "Severity                 0.000000e+00\n",
              "Start_Time               0.000000e+00\n",
              "End_Time                 0.000000e+00\n",
              "Turning_Loop             0.000000e+00\n",
              "Traffic_Signal           0.000000e+00\n",
              "Traffic_Calming          0.000000e+00\n",
              "Stop                     0.000000e+00\n",
              "Station                  0.000000e+00\n",
              "Roundabout               0.000000e+00\n",
              "Railway                  0.000000e+00\n",
              "No_Exit                  0.000000e+00\n",
              "Give_Way                 0.000000e+00\n",
              "State                    0.000000e+00\n",
              "Crossing                 0.000000e+00\n",
              "Bump                     0.000000e+00\n",
              "Amenity                  0.000000e+00\n",
              "Start_Lat                0.000000e+00\n",
              "Start_Lng                0.000000e+00\n",
              "Distance(mi)             0.000000e+00\n",
              "Street                   0.000000e+00\n",
              "Side                     0.000000e+00\n",
              "Source                   0.000000e+00\n",
              "County                   0.000000e+00\n",
              "ID                       0.000000e+00\n",
              "dtype: float64"
            ]
          },
          "execution_count": 31,
          "metadata": {},
          "output_type": "execute_result"
        }
      ],
      "source": [
        "missing_percentages = df.isna().sum().sort_values(ascending=False) / len(df)\n",
        "missing_percentages"
      ]
    },
    {
      "cell_type": "code",
      "execution_count": null,
      "metadata": {
        "colab": {
          "base_uri": "https://localhost:8080/"
        },
        "id": "2UnervoNoHbQ",
        "outputId": "b89ef474-e779-48c6-9bc0-64b77a04002d"
      },
      "outputs": [
        {
          "data": {
            "text/plain": [
              "pandas.core.series.Series"
            ]
          },
          "execution_count": 32,
          "metadata": {},
          "output_type": "execute_result"
        }
      ],
      "source": [
        "type(missing_percentages)"
      ]
    },
    {
      "cell_type": "code",
      "execution_count": null,
      "metadata": {
        "colab": {
          "base_uri": "https://localhost:8080/",
          "height": 282
        },
        "id": "XZXaJptioHeB",
        "outputId": "b3c3bc20-d4cd-4eea-8c48-df8ad505dc0a"
      },
      "outputs": [
        {
          "data": {
            "text/plain": [
              "<matplotlib.axes._subplots.AxesSubplot at 0x7f376cc9fb10>"
            ]
          },
          "execution_count": 38,
          "metadata": {},
          "output_type": "execute_result"
        },
        {
          "data": {
            "image/png": "[encoded data removed]",
            "text/plain": [
              "<Figure size 432x288 with 1 Axes>"
            ]
          },
          "metadata": {
            "needs_background": "light"
          },
          "output_type": "display_data"
        }
      ],
      "source": [
        "missing_percentages[missing_percentages != 0].plot(kind='barh')"
      ]
    },
    {
      "cell_type": "markdown",
      "metadata": {
        "id": "A6XdCFU99eRr"
      },
      "source": [
        "Remove columns that you don't want to use. "
      ]
    },
    {
      "cell_type": "markdown",
      "metadata": {
        "id": "Qsp3ZN-OoIxA"
      },
      "source": [
        "## Ask & answer Questions\n",
        "\n",
        "1.   Are there more accidents in warmer or colder areas?\n",
        "2.   Which 5 states have the highest number of accidents? How about per capita?\n",
        "3. Does New York show up in data ? if yes, why is the count lower if this the most popluted city.\n",
        "4. Among the top 100 cities in number of accidents, which states do they belong to most frequently.\n",
        "5. What time of the day are accidents most frequent in ?\n",
        "6. Which days of the week have the most accidents?\n",
        "7. Which months have the most accidents?\n",
        "8. What is the trend of accidents year over year(decreasing/increasing)?\n",
        "9. When is accidents per unit of traffic the highest.\n",
        "\n"
      ]
    },
    {
      "cell_type": "code",
      "execution_count": null,
      "metadata": {
        "id": "F2qvOPBF3RlL"
      },
      "outputs": [],
      "source": []
    },
    {
      "cell_type": "code",
      "execution_count": null,
      "metadata": {
        "id": "8ffV4T5k3Rh0"
      },
      "outputs": [],
      "source": []
    },
    {
      "cell_type": "markdown",
      "metadata": {
        "id": "CLNAaII02Zu9"
      },
      "source": [
        "## Summary and Conclusion\n",
        "Insights:\n",
        "    \n",
        "\n",
        "*   No data from New York\n",
        "*  The number of accident per city decreases exponentially.\n",
        "*  Less than 5% of cities have more than 1000 yearly accidents.\n",
        "*  Over 1200 cities have reported just one accident (need to investigate)\n",
        "\n"
      ]
    },
    {
      "cell_type": "code",
      "execution_count": null,
      "metadata": {
        "id": "UxoKgqrR3O7n"
      },
      "outputs": [],
      "source": []
    },
    {
      "cell_type": "code",
      "execution_count": null,
      "metadata": {
        "id": "kGWyEo_V3O4D"
      },
      "outputs": [],
      "source": [
        "import jovian "
      ]
    },
    {
      "cell_type": "code",
      "execution_count": null,
      "metadata": {
        "colab": {
          "base_uri": "https://localhost:8080/"
        },
        "id": "JJt5C_iC3Ia9",
        "outputId": "c1948f90-b40e-47d1-82f5-5ecf13902139"
      },
      "outputs": [
        {
          "name": "stdout",
          "output_type": "stream",
          "text": [
            "[jovian] Detected Colab notebook...\u001b[0m\n",
            "[jovian] Please enter your API key ( from https://jovian.ai/ ):\u001b[0m\n",
            "API KEY: "
          ]
        }
      ],
      "source": [
        "jovian.commit()"
      ]
    },
    {
      "cell_type": "code",
      "execution_count": null,
      "metadata": {
        "id": "zj6nDOAb3dSh"
      },
      "outputs": [],
      "source": []
    }
  ],
  "metadata": {
    "colab": {
      "provenance": [],
      "include_colab_link": true
    },
    "kernelspec": {
      "display_name": "Python 3",
      "language": "python",
      "name": "python3"
    },
    "language_info": {
      "codemirror_mode": {
        "name": "ipython",
        "version": 3
      },
      "file_extension": ".py",
      "mimetype": "text/x-python",
      "name": "python",
      "nbconvert_exporter": "python",
      "pygments_lexer": "ipython3",
      "version": "3.7.6"
    }
  },
  "nbformat": 4,
  "nbformat_minor": 0
}